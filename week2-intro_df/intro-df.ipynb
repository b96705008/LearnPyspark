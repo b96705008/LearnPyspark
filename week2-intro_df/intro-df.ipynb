{
 "cells": [
  {
   "cell_type": "markdown",
   "metadata": {},
   "source": [
    "# Spark DataFrame"
   ]
  },
  {
   "cell_type": "markdown",
   "metadata": {},
   "source": [
    "Spark DataFrame:\n",
    "\n",
    "•  Each row of a DataFrame is a Row object\n",
    "\n",
    "•  The fields in a Row can be accessed like attributes"
   ]
  },
  {
   "cell_type": "code",
   "execution_count": 124,
   "metadata": {
    "collapsed": true
   },
   "outputs": [],
   "source": [
    "from __future__ import unicode_literals\n",
    "import pandas as pd\n",
    "\n",
    "from pyspark import SparkContext\n",
    "from pyspark.sql import HiveContext\n",
    "from pyspark.sql import Row\n",
    "from pyspark.sql.functions import col, udf\n",
    "from pyspark.sql.types import StructField, StructType, StringType, IntegerType"
   ]
  },
  {
   "cell_type": "code",
   "execution_count": 16,
   "metadata": {
    "collapsed": false
   },
   "outputs": [],
   "source": [
    "sc = SparkContext() if sc is None else sc\n",
    "hc = HiveContext(sc)"
   ]
  },
  {
   "cell_type": "code",
   "execution_count": 336,
   "metadata": {
    "collapsed": false
   },
   "outputs": [
    {
     "data": {
      "text/plain": [
       "<pyspark.sql.context.SQLContext at 0x105101410>"
      ]
     },
     "execution_count": 336,
     "metadata": {},
     "output_type": "execute_result"
    }
   ],
   "source": [
    "sqlContext"
   ]
  },
  {
   "cell_type": "markdown",
   "metadata": {},
   "source": [
    "# 1. Spark DataFrame Creation"
   ]
  },
  {
   "cell_type": "markdown",
   "metadata": {},
   "source": [
    "Spark DF建立時必須定義schema，定義每一個欄位名稱與資料型態"
   ]
  },
  {
   "cell_type": "markdown",
   "metadata": {},
   "source": [
    "You construct DataFrames:\n",
    "\n",
    "•  by parallelizing existing Python collections (lists) \n",
    "\n",
    "•  by transforming an existing Spark RDD or pandas DFs \n",
    "\n",
    "•  from files in HDFS or any other storage system"
   ]
  },
  {
   "cell_type": "markdown",
   "metadata": {},
   "source": [
    "## 1.1 Create DataFrames from Python collections (lists)"
   ]
  },
  {
   "cell_type": "code",
   "execution_count": 95,
   "metadata": {
    "collapsed": true
   },
   "outputs": [],
   "source": [
    "data = [('Alice', 18), ('Bob', 20)]  # list"
   ]
  },
  {
   "cell_type": "code",
   "execution_count": 168,
   "metadata": {
    "collapsed": true
   },
   "outputs": [],
   "source": [
    "#df = hc.createDataFrame(data)\n",
    "df = sqlContext.createDataFrame(data)"
   ]
  },
  {
   "cell_type": "code",
   "execution_count": 169,
   "metadata": {
    "collapsed": false
   },
   "outputs": [
    {
     "data": {
      "text/plain": [
       "pyspark.sql.dataframe.DataFrame"
      ]
     },
     "execution_count": 169,
     "metadata": {},
     "output_type": "execute_result"
    }
   ],
   "source": [
    "type(df)"
   ]
  },
  {
   "cell_type": "code",
   "execution_count": 170,
   "metadata": {
    "collapsed": false
   },
   "outputs": [
    {
     "data": {
      "text/plain": [
       "DataFrame[_1: string, _2: string, _3: bigint]"
      ]
     },
     "execution_count": 170,
     "metadata": {},
     "output_type": "execute_result"
    }
   ],
   "source": [
    "df"
   ]
  },
  {
   "cell_type": "code",
   "execution_count": 171,
   "metadata": {
    "collapsed": true
   },
   "outputs": [],
   "source": [
    "df2 = sqlContext.createDataFrame(data, ['name', 'age'])"
   ]
  },
  {
   "cell_type": "code",
   "execution_count": 172,
   "metadata": {
    "collapsed": false
   },
   "outputs": [
    {
     "data": {
      "text/plain": [
       "DataFrame[name: string, age: string, _3: bigint]"
      ]
     },
     "execution_count": 172,
     "metadata": {},
     "output_type": "execute_result"
    }
   ],
   "source": [
    "df2"
   ]
  },
  {
   "cell_type": "markdown",
   "metadata": {},
   "source": [
    "## 1.2 Creating DataFrame from pandas"
   ]
  },
  {
   "cell_type": "code",
   "execution_count": 97,
   "metadata": {
    "collapsed": false
   },
   "outputs": [],
   "source": [
    "pandas_df = pd.read_csv(\"data/user.csv\", sep=\",\", names=[\"userid\", \"age\", \"gender\", \"occupation\", \"zipcode\"])"
   ]
  },
  {
   "cell_type": "code",
   "execution_count": 98,
   "metadata": {
    "collapsed": false
   },
   "outputs": [
    {
     "data": {
      "text/plain": [
       "pandas.core.frame.DataFrame"
      ]
     },
     "execution_count": 98,
     "metadata": {},
     "output_type": "execute_result"
    }
   ],
   "source": [
    "type(pandas_df)"
   ]
  },
  {
   "cell_type": "code",
   "execution_count": 102,
   "metadata": {
    "collapsed": false,
    "scrolled": true
   },
   "outputs": [],
   "source": [
    "#pandas_df"
   ]
  },
  {
   "cell_type": "code",
   "execution_count": 100,
   "metadata": {
    "collapsed": true
   },
   "outputs": [],
   "source": [
    "spark_df = sqlContext.createDataFrame(pandas_df)"
   ]
  },
  {
   "cell_type": "code",
   "execution_count": 103,
   "metadata": {
    "collapsed": false,
    "scrolled": true
   },
   "outputs": [],
   "source": [
    "#spark_df.show()"
   ]
  },
  {
   "cell_type": "markdown",
   "metadata": {},
   "source": [
    "## 1.3 From HDFS, text files, csv file, parquet file..."
   ]
  },
  {
   "cell_type": "markdown",
   "metadata": {},
   "source": [
    "### (1). 讀取 text file 成為 DF"
   ]
  },
  {
   "cell_type": "code",
   "execution_count": 120,
   "metadata": {
    "collapsed": true
   },
   "outputs": [],
   "source": [
    "# Loads text file and returns a DataFrame with a single string column named \"value\" Each line in text file is a row\n",
    "df = sqlContext.read.text(\"data/user.csv\")"
   ]
  },
  {
   "cell_type": "code",
   "execution_count": 121,
   "metadata": {
    "collapsed": false
   },
   "outputs": [
    {
     "data": {
      "text/plain": [
       "DataFrame[value: string]"
      ]
     },
     "execution_count": 121,
     "metadata": {},
     "output_type": "execute_result"
    }
   ],
   "source": [
    "df"
   ]
  },
  {
   "cell_type": "code",
   "execution_count": 130,
   "metadata": {
    "collapsed": false,
    "scrolled": true
   },
   "outputs": [],
   "source": [
    "#df.show(truncate=False)"
   ]
  },
  {
   "cell_type": "markdown",
   "metadata": {},
   "source": [
    "### (2). 讀取 csv file 成為 DF"
   ]
  },
  {
   "cell_type": "code",
   "execution_count": 126,
   "metadata": {
    "collapsed": false
   },
   "outputs": [],
   "source": [
    "schema = StructType([\n",
    "        StructField(\"userid\", IntegerType(), False),\n",
    "        StructField(\"age\", IntegerType(), False),\n",
    "        StructField(\"gender\", StringType(), False),\n",
    "        StructField(\"occupation\", StringType(), False),\n",
    "        StructField(\"zipcode\", StringType(), False)\n",
    "        ])"
   ]
  },
  {
   "cell_type": "code",
   "execution_count": 127,
   "metadata": {
    "collapsed": false
   },
   "outputs": [],
   "source": [
    "df = sqlContext.read.csv(\"data/user.csv\", schema)"
   ]
  },
  {
   "cell_type": "code",
   "execution_count": 128,
   "metadata": {
    "collapsed": false
   },
   "outputs": [
    {
     "data": {
      "text/plain": [
       "DataFrame[userid: int, age: int, gender: string, occupation: string, zipcode: string]"
      ]
     },
     "execution_count": 128,
     "metadata": {},
     "output_type": "execute_result"
    }
   ],
   "source": [
    "df"
   ]
  },
  {
   "cell_type": "code",
   "execution_count": 131,
   "metadata": {
    "collapsed": false,
    "scrolled": true
   },
   "outputs": [],
   "source": [
    "#df.show()"
   ]
  },
  {
   "cell_type": "markdown",
   "metadata": {},
   "source": [
    "### (3). 讀取 parquet file 成為 DF"
   ]
  },
  {
   "cell_type": "markdown",
   "metadata": {},
   "source": [
    "將文件（text file）轉換為 Parquet file，可以加速查詢、節省硬碟儲存空間"
   ]
  },
  {
   "cell_type": "code",
   "execution_count": 143,
   "metadata": {
    "collapsed": true
   },
   "outputs": [],
   "source": [
    "df = sqlContext.read.parquet(\"data/ptt.snappy.parquet\")  # pyspark.sql.dataframe.DataFrame"
   ]
  },
  {
   "cell_type": "code",
   "execution_count": 144,
   "metadata": {
    "collapsed": false
   },
   "outputs": [
    {
     "data": {
      "text/plain": [
       "4522"
      ]
     },
     "execution_count": 144,
     "metadata": {},
     "output_type": "execute_result"
    }
   ],
   "source": [
    "df.count()"
   ]
  },
  {
   "cell_type": "code",
   "execution_count": 147,
   "metadata": {
    "collapsed": false
   },
   "outputs": [],
   "source": [
    "#df.printSchema()"
   ]
  },
  {
   "cell_type": "code",
   "execution_count": 150,
   "metadata": {
    "collapsed": false,
    "scrolled": true
   },
   "outputs": [],
   "source": [
    "#df.show()"
   ]
  },
  {
   "cell_type": "markdown",
   "metadata": {},
   "source": [
    "## 1.4 RDD -->  DataFrame"
   ]
  },
  {
   "cell_type": "markdown",
   "metadata": {},
   "source": [
    "pickle file: 物件序列化、存入硬碟後的檔案"
   ]
  },
  {
   "cell_type": "code",
   "execution_count": 174,
   "metadata": {
    "collapsed": true
   },
   "outputs": [],
   "source": [
    "# 讀取 pickle file\n",
    "rdd = sc.pickleFile(\"data/ptt.pickle\")"
   ]
  },
  {
   "cell_type": "code",
   "execution_count": 175,
   "metadata": {
    "collapsed": false
   },
   "outputs": [
    {
     "data": {
      "text/plain": [
       "4522"
      ]
     },
     "execution_count": 175,
     "metadata": {},
     "output_type": "execute_result"
    }
   ],
   "source": [
    "rdd.count()"
   ]
  },
  {
   "cell_type": "code",
   "execution_count": 176,
   "metadata": {
    "collapsed": false
   },
   "outputs": [
    {
     "data": {
      "text/plain": [
       "[(u'ptt',\n",
       "  u'PTTcreditcard',\n",
       "  datetime.date(2017, 5, 3),\n",
       "  1493747939,\n",
       "  u'',\n",
       "  u'5%\\u55ce\\uff1f\\u722c\\u4e86\\u597d\\u591a\\u56de\\u994b\\u6587\\u90fd\\u6c92\\u63d0\\u5230\\u9019\\u584a\\uff5eQQ',\n",
       "  u'',\n",
       "  u'chun65455',\n",
       "  2,\n",
       "  u'M.1493746890.A.5F2',\n",
       "  u'M.1493746890.A.5F2_chun65455_2017-05-03T01:58:59_6',\n",
       "  u'\\u2192')]"
      ]
     },
     "execution_count": 176,
     "metadata": {},
     "output_type": "execute_result"
    }
   ],
   "source": [
    "rdd.take(1)"
   ]
  },
  {
   "cell_type": "code",
   "execution_count": 177,
   "metadata": {
    "collapsed": true
   },
   "outputs": [],
   "source": [
    "rdd_row = rdd.map(lambda x:\n",
    "        Row(\n",
    "            website = x[0],\n",
    "            channel = x[1],\n",
    "            time = x[2],\n",
    "            sort_time = x[3],\n",
    "            title = x[4],\n",
    "            content = x[5],\n",
    "            url = x[6],\n",
    "            writer_id = x[7],\n",
    "            level = x[8],\n",
    "            article_id = x[9],\n",
    "            r_article_id = x[10],\n",
    "            mood = x[11]\n",
    "            )\n",
    "       )"
   ]
  },
  {
   "cell_type": "code",
   "execution_count": 178,
   "metadata": {
    "collapsed": false
   },
   "outputs": [
    {
     "data": {
      "text/plain": [
       "[Row(article_id=u'M.1493746890.A.5F2', channel=u'PTTcreditcard', content=u'5%\\u55ce\\uff1f\\u722c\\u4e86\\u597d\\u591a\\u56de\\u994b\\u6587\\u90fd\\u6c92\\u63d0\\u5230\\u9019\\u584a\\uff5eQQ', level=2, mood=u'\\u2192', r_article_id=u'M.1493746890.A.5F2_chun65455_2017-05-03T01:58:59_6', sort_time=1493747939, time=datetime.date(2017, 5, 3), title=u'', url=u'', website=u'ptt', writer_id=u'chun65455')]"
      ]
     },
     "execution_count": 178,
     "metadata": {},
     "output_type": "execute_result"
    }
   ],
   "source": [
    "rdd_row.take(1)"
   ]
  },
  {
   "cell_type": "code",
   "execution_count": 179,
   "metadata": {
    "collapsed": true
   },
   "outputs": [],
   "source": [
    "df = rdd_row.toDF()"
   ]
  },
  {
   "cell_type": "code",
   "execution_count": 180,
   "metadata": {
    "collapsed": false
   },
   "outputs": [],
   "source": [
    "#df.printSchema()"
   ]
  },
  {
   "cell_type": "code",
   "execution_count": 181,
   "metadata": {
    "collapsed": false,
    "scrolled": true
   },
   "outputs": [],
   "source": [
    "#df.show()"
   ]
  },
  {
   "cell_type": "code",
   "execution_count": 182,
   "metadata": {
    "collapsed": true
   },
   "outputs": [],
   "source": [
    "df2 = sqlContext.createDataFrame(rdd_row)"
   ]
  },
  {
   "cell_type": "code",
   "execution_count": 183,
   "metadata": {
    "collapsed": false
   },
   "outputs": [],
   "source": [
    "#df2.printSchema()"
   ]
  },
  {
   "cell_type": "code",
   "execution_count": 184,
   "metadata": {
    "collapsed": false,
    "scrolled": false
   },
   "outputs": [],
   "source": [
    "#df2.show()"
   ]
  },
  {
   "cell_type": "markdown",
   "metadata": {
    "collapsed": true
   },
   "source": [
    "# 2.  Spark DataFrame Transformations"
   ]
  },
  {
   "cell_type": "markdown",
   "metadata": {},
   "source": [
    "## 2.1 Select Column"
   ]
  },
  {
   "cell_type": "code",
   "execution_count": 222,
   "metadata": {
    "collapsed": false
   },
   "outputs": [],
   "source": [
    "df = sqlContext.read.csv(\"data/user.csv\", schema)"
   ]
  },
  {
   "cell_type": "code",
   "execution_count": 235,
   "metadata": {
    "collapsed": false
   },
   "outputs": [
    {
     "data": {
      "text/plain": [
       "943"
      ]
     },
     "execution_count": 235,
     "metadata": {},
     "output_type": "execute_result"
    }
   ],
   "source": [
    "df.count()"
   ]
  },
  {
   "cell_type": "code",
   "execution_count": 223,
   "metadata": {
    "collapsed": false
   },
   "outputs": [
    {
     "data": {
      "text/plain": [
       "DataFrame[userid: int, age: int, gender: string, occupation: string, zipcode: string]"
      ]
     },
     "execution_count": 223,
     "metadata": {},
     "output_type": "execute_result"
    }
   ],
   "source": [
    "df"
   ]
  },
  {
   "cell_type": "code",
   "execution_count": 224,
   "metadata": {
    "collapsed": false
   },
   "outputs": [
    {
     "data": {
      "text/plain": [
       "Column<age>"
      ]
     },
     "execution_count": 224,
     "metadata": {},
     "output_type": "execute_result"
    }
   ],
   "source": [
    "df.age"
   ]
  },
  {
   "cell_type": "code",
   "execution_count": 225,
   "metadata": {
    "collapsed": false
   },
   "outputs": [
    {
     "data": {
      "text/plain": [
       "DataFrame[userid: int, age: int, gender: string, occupation: string, zipcode: string]"
      ]
     },
     "execution_count": 225,
     "metadata": {},
     "output_type": "execute_result"
    }
   ],
   "source": [
    "# * selects all the columns\n",
    "df.select('*')"
   ]
  },
  {
   "cell_type": "code",
   "execution_count": 226,
   "metadata": {
    "collapsed": false
   },
   "outputs": [
    {
     "data": {
      "text/plain": [
       "DataFrame[userid: int, age: int]"
      ]
     },
     "execution_count": 226,
     "metadata": {},
     "output_type": "execute_result"
    }
   ],
   "source": [
    "# 選取欄位的三種方式\n",
    "# selects the userid and age columns\n",
    "df.select('userid', 'age') #.show()"
   ]
  },
  {
   "cell_type": "code",
   "execution_count": 227,
   "metadata": {
    "collapsed": false
   },
   "outputs": [
    {
     "data": {
      "text/plain": [
       "DataFrame[userid: int, age: int]"
      ]
     },
     "execution_count": 227,
     "metadata": {},
     "output_type": "execute_result"
    }
   ],
   "source": [
    "df.select(df.userid, df.age) #.show()"
   ]
  },
  {
   "cell_type": "code",
   "execution_count": 228,
   "metadata": {
    "collapsed": false
   },
   "outputs": [
    {
     "data": {
      "text/plain": [
       "DataFrame[userid: int, age: int]"
      ]
     },
     "execution_count": 228,
     "metadata": {},
     "output_type": "execute_result"
    }
   ],
   "source": [
    "df.select(df[\"userid\"], df[\"age\"]) #.show()"
   ]
  },
  {
   "cell_type": "markdown",
   "metadata": {},
   "source": [
    "## 2.2 Add Column"
   ]
  },
  {
   "cell_type": "code",
   "execution_count": 231,
   "metadata": {
    "collapsed": true
   },
   "outputs": [],
   "source": [
    "# 增加計算欄位\n",
    "#df = df.select('*', (2017-df.age).alias(\"birthyear\"))\n",
    "df = df.withColumn(\"birthyear\", 2017-df.age)"
   ]
  },
  {
   "cell_type": "code",
   "execution_count": 232,
   "metadata": {
    "collapsed": false,
    "scrolled": true
   },
   "outputs": [
    {
     "name": "stdout",
     "output_type": "stream",
     "text": [
      "+------+---+------+-------------+-------+---------+\n",
      "|userid|age|gender|   occupation|zipcode|birthyear|\n",
      "+------+---+------+-------------+-------+---------+\n",
      "|     1| 24|     M|   technician|  85711|     1993|\n",
      "|     2| 53|     F|        other|  94043|     1964|\n",
      "|     3| 23|     M|       writer|  32067|     1994|\n",
      "|     4| 24|     M|   technician|  43537|     1993|\n",
      "|     5| 33|     F|        other|  15213|     1984|\n",
      "|     6| 42|     M|    executive|  98101|     1975|\n",
      "|     7| 57|     M|administrator|  91344|     1960|\n",
      "|     8| 36|     M|administrator|  05201|     1981|\n",
      "|     9| 29|     M|      student|  01002|     1988|\n",
      "|    10| 53|     M|       lawyer|  90703|     1964|\n",
      "|    11| 39|     F|        other|  30329|     1978|\n",
      "|    12| 28|     F|        other|  06405|     1989|\n",
      "|    13| 47|     M|     educator|  29206|     1970|\n",
      "|    14| 45|     M|    scientist|  55106|     1972|\n",
      "|    15| 49|     F|     educator|  97301|     1968|\n",
      "|    16| 21|     M|entertainment|  10309|     1996|\n",
      "|    17| 30|     M|   programmer|  06355|     1987|\n",
      "|    18| 35|     F|        other|  37212|     1982|\n",
      "|    19| 40|     M|    librarian|  02138|     1977|\n",
      "|    20| 42|     F|    homemaker|  95660|     1975|\n",
      "+------+---+------+-------------+-------+---------+\n",
      "only showing top 20 rows\n",
      "\n"
     ]
    }
   ],
   "source": [
    "df.show()"
   ]
  },
  {
   "cell_type": "markdown",
   "metadata": {},
   "source": [
    "## 2.3 Filter"
   ]
  },
  {
   "cell_type": "markdown",
   "metadata": {},
   "source": [
    "＊寫法一"
   ]
  },
  {
   "cell_type": "code",
   "execution_count": 233,
   "metadata": {
    "collapsed": false
   },
   "outputs": [
    {
     "data": {
      "text/plain": [
       "670"
      ]
     },
     "execution_count": 233,
     "metadata": {},
     "output_type": "execute_result"
    }
   ],
   "source": [
    "# 單一條件\n",
    "df.filter('gender = \"M\"').count()"
   ]
  },
  {
   "cell_type": "code",
   "execution_count": 239,
   "metadata": {
    "collapsed": false
   },
   "outputs": [
    {
     "data": {
      "text/plain": [
       "26"
      ]
     },
     "execution_count": 239,
     "metadata": {},
     "output_type": "execute_result"
    }
   ],
   "source": [
    "# 多個條件\n",
    "df.filter('gender = \"M\" and occupation = \"technician\"').count()"
   ]
  },
  {
   "cell_type": "code",
   "execution_count": 240,
   "metadata": {
    "collapsed": false
   },
   "outputs": [
    {
     "data": {
      "text/plain": [
       "26"
      ]
     },
     "execution_count": 240,
     "metadata": {},
     "output_type": "execute_result"
    }
   ],
   "source": [
    "df.filter('gender = \"M\"').filter('occupation = \"technician\"').count()"
   ]
  },
  {
   "cell_type": "markdown",
   "metadata": {},
   "source": [
    "＊寫法二：\n",
    "\n",
    "必須使用 &\n",
    "\n",
    "必須使用 =="
   ]
  },
  {
   "cell_type": "code",
   "execution_count": 241,
   "metadata": {
    "collapsed": false
   },
   "outputs": [
    {
     "data": {
      "text/plain": [
       "670"
      ]
     },
     "execution_count": 241,
     "metadata": {},
     "output_type": "execute_result"
    }
   ],
   "source": [
    "# 單一條件\n",
    "df.filter(df.gender == 'M').count()"
   ]
  },
  {
   "cell_type": "code",
   "execution_count": 243,
   "metadata": {
    "collapsed": false
   },
   "outputs": [
    {
     "data": {
      "text/plain": [
       "26"
      ]
     },
     "execution_count": 243,
     "metadata": {},
     "output_type": "execute_result"
    }
   ],
   "source": [
    "# 多個條件\n",
    "df.filter((df.gender == 'M') & (df.occupation == 'technician')).count()"
   ]
  },
  {
   "cell_type": "code",
   "execution_count": 244,
   "metadata": {
    "collapsed": false
   },
   "outputs": [
    {
     "data": {
      "text/plain": [
       "26"
      ]
     },
     "execution_count": 244,
     "metadata": {},
     "output_type": "execute_result"
    }
   ],
   "source": [
    "df.filter(df.gender == 'M').filter(df.occupation == 'technician').count()"
   ]
  },
  {
   "cell_type": "markdown",
   "metadata": {},
   "source": [
    "## 2.4 Order By"
   ]
  },
  {
   "cell_type": "markdown",
   "metadata": {},
   "source": [
    "＊預設為升冪排序"
   ]
  },
  {
   "cell_type": "code",
   "execution_count": 246,
   "metadata": {
    "collapsed": false
   },
   "outputs": [
    {
     "name": "stdout",
     "output_type": "stream",
     "text": [
      "+------+---+------+-------------+-------+---------+\n",
      "|userid|age|gender|   occupation|zipcode|birthyear|\n",
      "+------+---+------+-------------+-------+---------+\n",
      "|    30|  7|     M|      student|  55436|     2010|\n",
      "|   471| 10|     M|      student|  77459|     2007|\n",
      "|   289| 11|     M|         none|  94619|     2006|\n",
      "|   142| 13|     M|        other|  48118|     2004|\n",
      "|   628| 13|     M|         none|  94306|     2004|\n",
      "|   674| 13|     F|      student|  55337|     2004|\n",
      "|   609| 13|     F|      student|  55106|     2004|\n",
      "|   880| 13|     M|      student|  83702|     2004|\n",
      "|   206| 14|     F|      student|  53115|     2003|\n",
      "|   813| 14|     F|      student|  02136|     2003|\n",
      "|   887| 14|     F|      student|  27249|     2003|\n",
      "|   179| 15|     M|entertainment|  20755|     2002|\n",
      "|   101| 15|     M|      student|  05146|     2002|\n",
      "|   281| 15|     F|      student|  06059|     2002|\n",
      "|   618| 15|     F|      student|  44212|     2002|\n",
      "|   461| 15|     M|      student|  98102|     2002|\n",
      "|   849| 15|     F|      student|  25652|     2002|\n",
      "|    57| 16|     M|         none|  84010|     2001|\n",
      "|   434| 16|     F|      student|  49705|     2001|\n",
      "|   451| 16|     M|      student|  48446|     2001|\n",
      "+------+---+------+-------------+-------+---------+\n",
      "only showing top 20 rows\n",
      "\n"
     ]
    }
   ],
   "source": [
    "# 預設為升冪排序\n",
    "df.orderBy(\"age\").show()"
   ]
  },
  {
   "cell_type": "code",
   "execution_count": 247,
   "metadata": {
    "collapsed": false
   },
   "outputs": [
    {
     "name": "stdout",
     "output_type": "stream",
     "text": [
      "+------+---+------+-------------+-------+---------+\n",
      "|userid|age|gender|   occupation|zipcode|birthyear|\n",
      "+------+---+------+-------------+-------+---------+\n",
      "|    30|  7|     M|      student|  55436|     2010|\n",
      "|   471| 10|     M|      student|  77459|     2007|\n",
      "|   289| 11|     M|         none|  94619|     2006|\n",
      "|   142| 13|     M|        other|  48118|     2004|\n",
      "|   628| 13|     M|         none|  94306|     2004|\n",
      "|   674| 13|     F|      student|  55337|     2004|\n",
      "|   609| 13|     F|      student|  55106|     2004|\n",
      "|   880| 13|     M|      student|  83702|     2004|\n",
      "|   206| 14|     F|      student|  53115|     2003|\n",
      "|   813| 14|     F|      student|  02136|     2003|\n",
      "|   887| 14|     F|      student|  27249|     2003|\n",
      "|   179| 15|     M|entertainment|  20755|     2002|\n",
      "|   101| 15|     M|      student|  05146|     2002|\n",
      "|   281| 15|     F|      student|  06059|     2002|\n",
      "|   618| 15|     F|      student|  44212|     2002|\n",
      "|   461| 15|     M|      student|  98102|     2002|\n",
      "|   849| 15|     F|      student|  25652|     2002|\n",
      "|    57| 16|     M|         none|  84010|     2001|\n",
      "|   434| 16|     F|      student|  49705|     2001|\n",
      "|   451| 16|     M|      student|  48446|     2001|\n",
      "+------+---+------+-------------+-------+---------+\n",
      "only showing top 20 rows\n",
      "\n"
     ]
    }
   ],
   "source": [
    "df.orderBy(df.age).show()"
   ]
  },
  {
   "cell_type": "markdown",
   "metadata": {},
   "source": [
    "＊降冪排序"
   ]
  },
  {
   "cell_type": "code",
   "execution_count": 249,
   "metadata": {
    "collapsed": false
   },
   "outputs": [
    {
     "name": "stdout",
     "output_type": "stream",
     "text": [
      "+------+---+------+-------------+-------+---------+\n",
      "|userid|age|gender|   occupation|zipcode|birthyear|\n",
      "+------+---+------+-------------+-------+---------+\n",
      "|   481| 73|     M|      retired|  37771|     1944|\n",
      "|   803| 70|     M|administrator|  78212|     1947|\n",
      "|   767| 70|     M|     engineer|  00000|     1947|\n",
      "|   860| 70|     F|      retired|  48322|     1947|\n",
      "|   559| 69|     M|    executive|  10022|     1948|\n",
      "|   585| 69|     M|    librarian|  98501|     1948|\n",
      "|   349| 68|     M|      retired|  61455|     1949|\n",
      "|   573| 68|     M|      retired|  48911|     1949|\n",
      "|   211| 66|     M|     salesman|  32605|     1951|\n",
      "|   651| 65|     M|      retired|  02903|     1952|\n",
      "|   564| 65|     M|      retired|  94591|     1952|\n",
      "|   318| 65|     M|      retired|  06518|     1952|\n",
      "|   423| 64|     M|        other|  91606|     1953|\n",
      "|   845| 64|     M|       doctor|  97405|     1953|\n",
      "|   364| 63|     M|     engineer|  01810|     1954|\n",
      "|   777| 63|     M|   programmer|  01810|     1954|\n",
      "|   858| 63|     M|     educator|  09645|     1954|\n",
      "|   266| 62|     F|administrator|  78756|     1955|\n",
      "|   520| 62|     M|   healthcare|  12603|     1955|\n",
      "|   106| 61|     M|      retired|  55125|     1956|\n",
      "+------+---+------+-------------+-------+---------+\n",
      "only showing top 20 rows\n",
      "\n"
     ]
    }
   ],
   "source": [
    "df.orderBy(\"age\", ascending=0).show()"
   ]
  },
  {
   "cell_type": "code",
   "execution_count": 248,
   "metadata": {
    "collapsed": false
   },
   "outputs": [
    {
     "name": "stdout",
     "output_type": "stream",
     "text": [
      "+------+---+------+-------------+-------+---------+\n",
      "|userid|age|gender|   occupation|zipcode|birthyear|\n",
      "+------+---+------+-------------+-------+---------+\n",
      "|   481| 73|     M|      retired|  37771|     1944|\n",
      "|   803| 70|     M|administrator|  78212|     1947|\n",
      "|   767| 70|     M|     engineer|  00000|     1947|\n",
      "|   860| 70|     F|      retired|  48322|     1947|\n",
      "|   559| 69|     M|    executive|  10022|     1948|\n",
      "|   585| 69|     M|    librarian|  98501|     1948|\n",
      "|   349| 68|     M|      retired|  61455|     1949|\n",
      "|   573| 68|     M|      retired|  48911|     1949|\n",
      "|   211| 66|     M|     salesman|  32605|     1951|\n",
      "|   651| 65|     M|      retired|  02903|     1952|\n",
      "|   564| 65|     M|      retired|  94591|     1952|\n",
      "|   318| 65|     M|      retired|  06518|     1952|\n",
      "|   423| 64|     M|        other|  91606|     1953|\n",
      "|   845| 64|     M|       doctor|  97405|     1953|\n",
      "|   364| 63|     M|     engineer|  01810|     1954|\n",
      "|   777| 63|     M|   programmer|  01810|     1954|\n",
      "|   858| 63|     M|     educator|  09645|     1954|\n",
      "|   266| 62|     F|administrator|  78756|     1955|\n",
      "|   520| 62|     M|   healthcare|  12603|     1955|\n",
      "|   106| 61|     M|      retired|  55125|     1956|\n",
      "+------+---+------+-------------+-------+---------+\n",
      "only showing top 20 rows\n",
      "\n"
     ]
    }
   ],
   "source": [
    "df.orderBy(df.age.desc()).show()"
   ]
  },
  {
   "cell_type": "markdown",
   "metadata": {},
   "source": [
    "＊多欄位排序"
   ]
  },
  {
   "cell_type": "code",
   "execution_count": 251,
   "metadata": {
    "collapsed": false
   },
   "outputs": [
    {
     "name": "stdout",
     "output_type": "stream",
     "text": [
      "+------+---+------+-------------+-------+---------+\n",
      "|userid|age|gender|   occupation|zipcode|birthyear|\n",
      "+------+---+------+-------------+-------+---------+\n",
      "|   481| 73|     M|      retired|  37771|     1944|\n",
      "|   860| 70|     F|      retired|  48322|     1947|\n",
      "|   767| 70|     M|     engineer|  00000|     1947|\n",
      "|   803| 70|     M|administrator|  78212|     1947|\n",
      "|   559| 69|     M|    executive|  10022|     1948|\n",
      "|   585| 69|     M|    librarian|  98501|     1948|\n",
      "|   349| 68|     M|      retired|  61455|     1949|\n",
      "|   573| 68|     M|      retired|  48911|     1949|\n",
      "|   211| 66|     M|     salesman|  32605|     1951|\n",
      "|   651| 65|     M|      retired|  02903|     1952|\n",
      "|   564| 65|     M|      retired|  94591|     1952|\n",
      "|   318| 65|     M|      retired|  06518|     1952|\n",
      "|   423| 64|     M|        other|  91606|     1953|\n",
      "|   845| 64|     M|       doctor|  97405|     1953|\n",
      "|   364| 63|     M|     engineer|  01810|     1954|\n",
      "|   777| 63|     M|   programmer|  01810|     1954|\n",
      "|   858| 63|     M|     educator|  09645|     1954|\n",
      "|   266| 62|     F|administrator|  78756|     1955|\n",
      "|   520| 62|     M|   healthcare|  12603|     1955|\n",
      "|   106| 61|     M|      retired|  55125|     1956|\n",
      "+------+---+------+-------------+-------+---------+\n",
      "only showing top 20 rows\n",
      "\n"
     ]
    }
   ],
   "source": [
    "df.orderBy([\"age\", \"gender\"], ascending=[0,1]).show()"
   ]
  },
  {
   "cell_type": "code",
   "execution_count": 252,
   "metadata": {
    "collapsed": false
   },
   "outputs": [
    {
     "name": "stdout",
     "output_type": "stream",
     "text": [
      "+------+---+------+-------------+-------+---------+\n",
      "|userid|age|gender|   occupation|zipcode|birthyear|\n",
      "+------+---+------+-------------+-------+---------+\n",
      "|   481| 73|     M|      retired|  37771|     1944|\n",
      "|   860| 70|     F|      retired|  48322|     1947|\n",
      "|   767| 70|     M|     engineer|  00000|     1947|\n",
      "|   803| 70|     M|administrator|  78212|     1947|\n",
      "|   559| 69|     M|    executive|  10022|     1948|\n",
      "|   585| 69|     M|    librarian|  98501|     1948|\n",
      "|   349| 68|     M|      retired|  61455|     1949|\n",
      "|   573| 68|     M|      retired|  48911|     1949|\n",
      "|   211| 66|     M|     salesman|  32605|     1951|\n",
      "|   651| 65|     M|      retired|  02903|     1952|\n",
      "|   564| 65|     M|      retired|  94591|     1952|\n",
      "|   318| 65|     M|      retired|  06518|     1952|\n",
      "|   423| 64|     M|        other|  91606|     1953|\n",
      "|   845| 64|     M|       doctor|  97405|     1953|\n",
      "|   364| 63|     M|     engineer|  01810|     1954|\n",
      "|   777| 63|     M|   programmer|  01810|     1954|\n",
      "|   858| 63|     M|     educator|  09645|     1954|\n",
      "|   266| 62|     F|administrator|  78756|     1955|\n",
      "|   520| 62|     M|   healthcare|  12603|     1955|\n",
      "|   106| 61|     M|      retired|  55125|     1956|\n",
      "+------+---+------+-------------+-------+---------+\n",
      "only showing top 20 rows\n",
      "\n"
     ]
    }
   ],
   "source": [
    "df.orderBy(df.age.desc(), df.gender).show()"
   ]
  },
  {
   "cell_type": "markdown",
   "metadata": {},
   "source": [
    "## 2.5 Distinct"
   ]
  },
  {
   "cell_type": "code",
   "execution_count": 253,
   "metadata": {
    "collapsed": false
   },
   "outputs": [
    {
     "name": "stdout",
     "output_type": "stream",
     "text": [
      "+-------------+\n",
      "|   occupation|\n",
      "+-------------+\n",
      "|    librarian|\n",
      "|      retired|\n",
      "|       lawyer|\n",
      "|         none|\n",
      "|       writer|\n",
      "|   programmer|\n",
      "|    marketing|\n",
      "|        other|\n",
      "|    executive|\n",
      "|    scientist|\n",
      "|      student|\n",
      "|     salesman|\n",
      "|       artist|\n",
      "|   technician|\n",
      "|administrator|\n",
      "|     engineer|\n",
      "|   healthcare|\n",
      "|     educator|\n",
      "|entertainment|\n",
      "|    homemaker|\n",
      "+-------------+\n",
      "only showing top 20 rows\n",
      "\n"
     ]
    }
   ],
   "source": [
    "df.select(\"occupation\").distinct().show()"
   ]
  },
  {
   "cell_type": "code",
   "execution_count": 254,
   "metadata": {
    "collapsed": false
   },
   "outputs": [
    {
     "name": "stdout",
     "output_type": "stream",
     "text": [
      "+-------------+\n",
      "|   occupation|\n",
      "+-------------+\n",
      "|    librarian|\n",
      "|      retired|\n",
      "|       lawyer|\n",
      "|         none|\n",
      "|       writer|\n",
      "|   programmer|\n",
      "|    marketing|\n",
      "|        other|\n",
      "|    executive|\n",
      "|    scientist|\n",
      "|      student|\n",
      "|     salesman|\n",
      "|       artist|\n",
      "|   technician|\n",
      "|administrator|\n",
      "|     engineer|\n",
      "|   healthcare|\n",
      "|     educator|\n",
      "|entertainment|\n",
      "|    homemaker|\n",
      "+-------------+\n",
      "only showing top 20 rows\n",
      "\n"
     ]
    }
   ],
   "source": [
    "df.select(df.occupation).distinct().show()"
   ]
  },
  {
   "cell_type": "code",
   "execution_count": 257,
   "metadata": {
    "collapsed": false
   },
   "outputs": [
    {
     "name": "stdout",
     "output_type": "stream",
     "text": [
      "+------+-------------+\n",
      "|gender|   occupation|\n",
      "+------+-------------+\n",
      "|     M|    executive|\n",
      "|     M|     educator|\n",
      "|     F|         none|\n",
      "|     F|entertainment|\n",
      "|     F|      retired|\n",
      "|     F|       artist|\n",
      "|     F|    librarian|\n",
      "|     F|     engineer|\n",
      "|     F|   healthcare|\n",
      "|     F|administrator|\n",
      "|     M|        other|\n",
      "|     M|    homemaker|\n",
      "|     F|       lawyer|\n",
      "|     M|   programmer|\n",
      "|     M|     salesman|\n",
      "|     M|         none|\n",
      "|     M|entertainment|\n",
      "|     M|    marketing|\n",
      "|     M|   technician|\n",
      "|     M|administrator|\n",
      "+------+-------------+\n",
      "only showing top 20 rows\n",
      "\n"
     ]
    }
   ],
   "source": [
    "df.select(\"gender\", \"occupation\").distinct().show()"
   ]
  },
  {
   "cell_type": "markdown",
   "metadata": {},
   "source": [
    "## 2.6 Group By"
   ]
  },
  {
   "cell_type": "code",
   "execution_count": 269,
   "metadata": {
    "collapsed": false
   },
   "outputs": [],
   "source": [
    "#df.groupby(\"gender\").count().show()\n",
    "#df.groupby(df.gender).count().show()"
   ]
  },
  {
   "cell_type": "code",
   "execution_count": 263,
   "metadata": {
    "collapsed": false
   },
   "outputs": [
    {
     "name": "stdout",
     "output_type": "stream",
     "text": [
      "+------+-----+\n",
      "|gender|count|\n",
      "+------+-----+\n",
      "|     F|  273|\n",
      "|     M|  670|\n",
      "+------+-----+\n",
      "\n"
     ]
    }
   ],
   "source": [
    "df.groupBy(\"gender\").count().show()\n",
    "#df.groupBy(df.gender).count().show()"
   ]
  },
  {
   "cell_type": "code",
   "execution_count": 268,
   "metadata": {
    "collapsed": false
   },
   "outputs": [
    {
     "name": "stdout",
     "output_type": "stream",
     "text": [
      "+------+-------------+-----+\n",
      "|gender|   occupation|count|\n",
      "+------+-------------+-----+\n",
      "|     F|administrator|   36|\n",
      "|     M|administrator|   43|\n",
      "|     F|       artist|   13|\n",
      "|     M|       artist|   15|\n",
      "|     M|       doctor|    7|\n",
      "|     F|     educator|   26|\n",
      "|     M|     educator|   69|\n",
      "|     F|     engineer|    2|\n",
      "|     M|     engineer|   65|\n",
      "|     F|entertainment|    2|\n",
      "|     M|entertainment|   16|\n",
      "|     F|    executive|    3|\n",
      "|     M|    executive|   29|\n",
      "|     F|   healthcare|   11|\n",
      "|     M|   healthcare|    5|\n",
      "|     F|    homemaker|    6|\n",
      "|     M|    homemaker|    1|\n",
      "|     F|       lawyer|    2|\n",
      "|     M|       lawyer|   10|\n",
      "|     F|    librarian|   29|\n",
      "+------+-------------+-----+\n",
      "only showing top 20 rows\n",
      "\n"
     ]
    }
   ],
   "source": [
    "df.groupBy(\"gender\", \"occupation\")\\\n",
    "    .count()\\\n",
    "    .orderBy(\"occupation\", \"gender\")\\\n",
    "    .show()"
   ]
  },
  {
   "cell_type": "code",
   "execution_count": 272,
   "metadata": {
    "collapsed": false
   },
   "outputs": [
    {
     "name": "stdout",
     "output_type": "stream",
     "text": [
      "+-------------+------------------+\n",
      "|   occupation|          avg(age)|\n",
      "+-------------+------------------+\n",
      "|    librarian|              40.0|\n",
      "|      retired| 63.07142857142857|\n",
      "|       lawyer|             36.75|\n",
      "|         none|26.555555555555557|\n",
      "|       writer| 36.31111111111111|\n",
      "|   programmer|33.121212121212125|\n",
      "|    marketing| 37.61538461538461|\n",
      "|        other|34.523809523809526|\n",
      "|    executive|          38.71875|\n",
      "|    scientist| 35.54838709677419|\n",
      "|      student|22.081632653061224|\n",
      "|     salesman|35.666666666666664|\n",
      "|       artist|31.392857142857142|\n",
      "|   technician|33.148148148148145|\n",
      "|administrator| 38.74683544303797|\n",
      "|     engineer| 36.38805970149254|\n",
      "|   healthcare|           41.5625|\n",
      "|     educator| 42.01052631578948|\n",
      "|entertainment| 29.22222222222222|\n",
      "|    homemaker| 32.57142857142857|\n",
      "+-------------+------------------+\n",
      "only showing top 20 rows\n",
      "\n"
     ]
    }
   ],
   "source": [
    "df.select(\"occupation\", \"age\")\\\n",
    "    .groupBy(\"occupation\")\\\n",
    "    .avg()\\\n",
    "    .show()"
   ]
  },
  {
   "cell_type": "markdown",
   "metadata": {},
   "source": [
    "## 2.7 Join"
   ]
  },
  {
   "cell_type": "code",
   "execution_count": 295,
   "metadata": {
    "collapsed": true
   },
   "outputs": [],
   "source": [
    "zipcode_df = pd.read_csv(\"data/free-zipcode-database-Primary.csv\")"
   ]
  },
  {
   "cell_type": "code",
   "execution_count": 300,
   "metadata": {
    "collapsed": false
   },
   "outputs": [],
   "source": [
    "zipcode_df = zipcode_df[[\"City\", \"State\", \"ZipCodeType\", \"Zipcode\"]]"
   ]
  },
  {
   "cell_type": "code",
   "execution_count": 301,
   "metadata": {
    "collapsed": false
   },
   "outputs": [],
   "source": [
    "zipcode = sqlContext.createDataFrame(zipcode_df)"
   ]
  },
  {
   "cell_type": "code",
   "execution_count": 303,
   "metadata": {
    "collapsed": false
   },
   "outputs": [
    {
     "name": "stdout",
     "output_type": "stream",
     "text": [
      "root\n",
      " |-- City: string (nullable = true)\n",
      " |-- State: string (nullable = true)\n",
      " |-- ZipCodeType: string (nullable = true)\n",
      " |-- Zipcode: long (nullable = true)\n",
      "\n"
     ]
    }
   ],
   "source": [
    "zipcode.printSchema()"
   ]
  },
  {
   "cell_type": "code",
   "execution_count": 311,
   "metadata": {
    "collapsed": false
   },
   "outputs": [],
   "source": [
    "df_join = df.join(zipcode, \"zipcode\", \"left_outer\")"
   ]
  },
  {
   "cell_type": "code",
   "execution_count": 314,
   "metadata": {
    "collapsed": false
   },
   "outputs": [],
   "source": [
    "#df_join.printSchema()"
   ]
  },
  {
   "cell_type": "code",
   "execution_count": 315,
   "metadata": {
    "collapsed": false
   },
   "outputs": [],
   "source": [
    "#df_join.show()"
   ]
  },
  {
   "cell_type": "markdown",
   "metadata": {},
   "source": [
    "# 3.  Spark DataFrame Actions"
   ]
  },
  {
   "cell_type": "code",
   "execution_count": 317,
   "metadata": {
    "collapsed": false
   },
   "outputs": [
    {
     "name": "stdout",
     "output_type": "stream",
     "text": [
      "+-------+------+---+------+-------------+---------+-------------+-----+-----------+\n",
      "|zipcode|userid|age|gender|   occupation|birthyear|         City|State|ZipCodeType|\n",
      "+-------+------+---+------+-------------+---------+-------------+-----+-----------+\n",
      "|  21911|   175| 26|     F|    scientist|     1991|   RISING SUN|   MD|   STANDARD|\n",
      "|  80521|    66| 23|     M|      student|     1994| FORT COLLINS|   CO|   STANDARD|\n",
      "|  12550|    48| 45|     M|administrator|     1972|     NEWBURGH|   NY|   STANDARD|\n",
      "|  48043|   636| 47|     M|     educator|     1970|MOUNT CLEMENS|   MI|   STANDARD|\n",
      "|  91505|   896| 28|     M|       writer|     1989|      BURBANK|   CA|   STANDARD|\n",
      "|  98405|   732| 28|     F|        other|     1989|       TACOMA|   WA|   STANDARD|\n",
      "|  10960|   204| 52|     F|    librarian|     1965|        NYACK|   NY|   STANDARD|\n",
      "|  10960|   766| 42|     M|        other|     1975|        NYACK|   NY|   STANDARD|\n",
      "|  14211|   760| 35|     F|        other|     1982|      BUFFALO|   NY|   STANDARD|\n",
      "|  62903|   764| 27|     F|     educator|     1990|   CARBONDALE|   IL|   STANDARD|\n",
      "|  48103|   151| 38|     F|administrator|     1979|    ANN ARBOR|   MI|   STANDARD|\n",
      "|  48103|   417| 27|     F|        other|     1990|    ANN ARBOR|   MI|   STANDARD|\n",
      "|  48103|   579| 32|     M|     educator|     1985|    ANN ARBOR|   MI|   STANDARD|\n",
      "|  55422|   424| 36|     F|    marketing|     1981|  MINNEAPOLIS|   MN|   STANDARD|\n",
      "|  55422|   565| 40|     M|      student|     1977|  MINNEAPOLIS|   MN|   STANDARD|\n",
      "|  78155|    90| 60|     M|     educator|     1957|       SEGUIN|   TX|   STANDARD|\n",
      "|  95032|   113| 47|     M|    executive|     1970|    LOS GATOS|   CA|   STANDARD|\n",
      "|  60152|   817| 19|     M|      student|     1998|      MARENGO|   IL|   STANDARD|\n",
      "|  85032|   251| 28|     M|       doctor|     1989|      PHOENIX|   AZ|   STANDARD|\n",
      "|  92507|   867| 24|     M|    scientist|     1993|    RIVERSIDE|   CA|   STANDARD|\n",
      "+-------+------+---+------+-------------+---------+-------------+-----+-----------+\n",
      "only showing top 20 rows\n",
      "\n"
     ]
    }
   ],
   "source": [
    "df_join.show()"
   ]
  },
  {
   "cell_type": "code",
   "execution_count": 318,
   "metadata": {
    "collapsed": false
   },
   "outputs": [
    {
     "data": {
      "text/plain": [
       "[Row(zipcode=u'21911', userid=175, age=26, gender=u'F', occupation=u'scientist', birthyear=1991, City=u'RISING SUN', State=u'MD', ZipCodeType=u'STANDARD')]"
      ]
     },
     "execution_count": 318,
     "metadata": {},
     "output_type": "execute_result"
    }
   ],
   "source": [
    "df_join.take(1)"
   ]
  },
  {
   "cell_type": "code",
   "execution_count": 321,
   "metadata": {
    "collapsed": false
   },
   "outputs": [],
   "source": [
    "#df_join.collect()"
   ]
  },
  {
   "cell_type": "code",
   "execution_count": 320,
   "metadata": {
    "collapsed": false
   },
   "outputs": [
    {
     "data": {
      "text/plain": [
       "943"
      ]
     },
     "execution_count": 320,
     "metadata": {},
     "output_type": "execute_result"
    }
   ],
   "source": [
    "df_join.count()"
   ]
  },
  {
   "cell_type": "markdown",
   "metadata": {},
   "source": [
    "# 4.  Persist 持久化"
   ]
  },
  {
   "cell_type": "code",
   "execution_count": 322,
   "metadata": {
    "collapsed": false
   },
   "outputs": [
    {
     "data": {
      "text/plain": [
       "DataFrame[zipcode: string, userid: int, age: int, gender: string, occupation: string, birthyear: int, City: string, State: string, ZipCodeType: string]"
      ]
     },
     "execution_count": 322,
     "metadata": {},
     "output_type": "execute_result"
    }
   ],
   "source": [
    "# The default storage level has changed to MEMORY_AND_DISK to match Scala in 2.0.\n",
    "df_join.persist()"
   ]
  },
  {
   "cell_type": "code",
   "execution_count": 337,
   "metadata": {
    "collapsed": false
   },
   "outputs": [
    {
     "data": {
      "text/plain": [
       "DataFrame[zipcode: string, userid: int, age: int, gender: string, occupation: string, birthyear: int, City: string, State: string, ZipCodeType: string]"
      ]
     },
     "execution_count": 337,
     "metadata": {},
     "output_type": "execute_result"
    }
   ],
   "source": [
    "# Persists the DataFrame with the default storage level (MEMORY_AND_DISK).\n",
    "df_join.cache()"
   ]
  },
  {
   "cell_type": "code",
   "execution_count": 323,
   "metadata": {
    "collapsed": false
   },
   "outputs": [
    {
     "data": {
      "text/plain": [
       "DataFrame[zipcode: string, userid: int, age: int, gender: string, occupation: string, birthyear: int, City: string, State: string, ZipCodeType: string]"
      ]
     },
     "execution_count": 323,
     "metadata": {},
     "output_type": "execute_result"
    }
   ],
   "source": [
    "# 取消持久化\n",
    "df_join.unpersist()"
   ]
  },
  {
   "cell_type": "markdown",
   "metadata": {},
   "source": [
    "# 5.  Save Data"
   ]
  },
  {
   "cell_type": "code",
   "execution_count": 325,
   "metadata": {
    "collapsed": true
   },
   "outputs": [],
   "source": [
    "# parquet file\n",
    "df_join.repartition(1).write.save(\"result/join_parquet\")"
   ]
  },
  {
   "cell_type": "code",
   "execution_count": 326,
   "metadata": {
    "collapsed": true
   },
   "outputs": [],
   "source": [
    "# csv file\n",
    "df_join.repartition(1).write.csv(\"result/join_csv\")"
   ]
  },
  {
   "cell_type": "code",
   "execution_count": 328,
   "metadata": {
    "collapsed": false
   },
   "outputs": [],
   "source": [
    "# json file\n",
    "df_join.repartition(1).write.json(\"result/join_json\")"
   ]
  },
  {
   "cell_type": "code",
   "execution_count": 330,
   "metadata": {
    "collapsed": false
   },
   "outputs": [],
   "source": [
    "# Hive table\n",
    "df_join.repartition(1).write.partitionBy(\"occupation\").mode(\"overwrite\").format(\"parquet\").saveAsTable('DB.table')"
   ]
  },
  {
   "cell_type": "code",
   "execution_count": 331,
   "metadata": {
    "collapsed": false,
    "scrolled": true
   },
   "outputs": [
    {
     "data": {
      "text/html": [
       "<div>\n",
       "<table border=\"1\" class=\"dataframe\">\n",
       "  <thead>\n",
       "    <tr style=\"text-align: right;\">\n",
       "      <th></th>\n",
       "      <th>zipcode</th>\n",
       "      <th>userid</th>\n",
       "      <th>age</th>\n",
       "      <th>gender</th>\n",
       "      <th>occupation</th>\n",
       "      <th>birthyear</th>\n",
       "      <th>City</th>\n",
       "      <th>State</th>\n",
       "      <th>ZipCodeType</th>\n",
       "    </tr>\n",
       "  </thead>\n",
       "  <tbody>\n",
       "    <tr>\n",
       "      <th>0</th>\n",
       "      <td>21911</td>\n",
       "      <td>175</td>\n",
       "      <td>26</td>\n",
       "      <td>F</td>\n",
       "      <td>scientist</td>\n",
       "      <td>1991</td>\n",
       "      <td>RISING SUN</td>\n",
       "      <td>MD</td>\n",
       "      <td>STANDARD</td>\n",
       "    </tr>\n",
       "    <tr>\n",
       "      <th>1</th>\n",
       "      <td>80521</td>\n",
       "      <td>66</td>\n",
       "      <td>23</td>\n",
       "      <td>M</td>\n",
       "      <td>student</td>\n",
       "      <td>1994</td>\n",
       "      <td>FORT COLLINS</td>\n",
       "      <td>CO</td>\n",
       "      <td>STANDARD</td>\n",
       "    </tr>\n",
       "    <tr>\n",
       "      <th>2</th>\n",
       "      <td>12550</td>\n",
       "      <td>48</td>\n",
       "      <td>45</td>\n",
       "      <td>M</td>\n",
       "      <td>administrator</td>\n",
       "      <td>1972</td>\n",
       "      <td>NEWBURGH</td>\n",
       "      <td>NY</td>\n",
       "      <td>STANDARD</td>\n",
       "    </tr>\n",
       "    <tr>\n",
       "      <th>3</th>\n",
       "      <td>48043</td>\n",
       "      <td>636</td>\n",
       "      <td>47</td>\n",
       "      <td>M</td>\n",
       "      <td>educator</td>\n",
       "      <td>1970</td>\n",
       "      <td>MOUNT CLEMENS</td>\n",
       "      <td>MI</td>\n",
       "      <td>STANDARD</td>\n",
       "    </tr>\n",
       "    <tr>\n",
       "      <th>4</th>\n",
       "      <td>91505</td>\n",
       "      <td>896</td>\n",
       "      <td>28</td>\n",
       "      <td>M</td>\n",
       "      <td>writer</td>\n",
       "      <td>1989</td>\n",
       "      <td>BURBANK</td>\n",
       "      <td>CA</td>\n",
       "      <td>STANDARD</td>\n",
       "    </tr>\n",
       "    <tr>\n",
       "      <th>5</th>\n",
       "      <td>98405</td>\n",
       "      <td>732</td>\n",
       "      <td>28</td>\n",
       "      <td>F</td>\n",
       "      <td>other</td>\n",
       "      <td>1989</td>\n",
       "      <td>TACOMA</td>\n",
       "      <td>WA</td>\n",
       "      <td>STANDARD</td>\n",
       "    </tr>\n",
       "    <tr>\n",
       "      <th>6</th>\n",
       "      <td>10960</td>\n",
       "      <td>204</td>\n",
       "      <td>52</td>\n",
       "      <td>F</td>\n",
       "      <td>librarian</td>\n",
       "      <td>1965</td>\n",
       "      <td>NYACK</td>\n",
       "      <td>NY</td>\n",
       "      <td>STANDARD</td>\n",
       "    </tr>\n",
       "    <tr>\n",
       "      <th>7</th>\n",
       "      <td>10960</td>\n",
       "      <td>766</td>\n",
       "      <td>42</td>\n",
       "      <td>M</td>\n",
       "      <td>other</td>\n",
       "      <td>1975</td>\n",
       "      <td>NYACK</td>\n",
       "      <td>NY</td>\n",
       "      <td>STANDARD</td>\n",
       "    </tr>\n",
       "    <tr>\n",
       "      <th>8</th>\n",
       "      <td>14211</td>\n",
       "      <td>760</td>\n",
       "      <td>35</td>\n",
       "      <td>F</td>\n",
       "      <td>other</td>\n",
       "      <td>1982</td>\n",
       "      <td>BUFFALO</td>\n",
       "      <td>NY</td>\n",
       "      <td>STANDARD</td>\n",
       "    </tr>\n",
       "    <tr>\n",
       "      <th>9</th>\n",
       "      <td>62903</td>\n",
       "      <td>764</td>\n",
       "      <td>27</td>\n",
       "      <td>F</td>\n",
       "      <td>educator</td>\n",
       "      <td>1990</td>\n",
       "      <td>CARBONDALE</td>\n",
       "      <td>IL</td>\n",
       "      <td>STANDARD</td>\n",
       "    </tr>\n",
       "    <tr>\n",
       "      <th>10</th>\n",
       "      <td>48103</td>\n",
       "      <td>151</td>\n",
       "      <td>38</td>\n",
       "      <td>F</td>\n",
       "      <td>administrator</td>\n",
       "      <td>1979</td>\n",
       "      <td>ANN ARBOR</td>\n",
       "      <td>MI</td>\n",
       "      <td>STANDARD</td>\n",
       "    </tr>\n",
       "    <tr>\n",
       "      <th>11</th>\n",
       "      <td>48103</td>\n",
       "      <td>417</td>\n",
       "      <td>27</td>\n",
       "      <td>F</td>\n",
       "      <td>other</td>\n",
       "      <td>1990</td>\n",
       "      <td>ANN ARBOR</td>\n",
       "      <td>MI</td>\n",
       "      <td>STANDARD</td>\n",
       "    </tr>\n",
       "    <tr>\n",
       "      <th>12</th>\n",
       "      <td>48103</td>\n",
       "      <td>579</td>\n",
       "      <td>32</td>\n",
       "      <td>M</td>\n",
       "      <td>educator</td>\n",
       "      <td>1985</td>\n",
       "      <td>ANN ARBOR</td>\n",
       "      <td>MI</td>\n",
       "      <td>STANDARD</td>\n",
       "    </tr>\n",
       "    <tr>\n",
       "      <th>13</th>\n",
       "      <td>55422</td>\n",
       "      <td>424</td>\n",
       "      <td>36</td>\n",
       "      <td>F</td>\n",
       "      <td>marketing</td>\n",
       "      <td>1981</td>\n",
       "      <td>MINNEAPOLIS</td>\n",
       "      <td>MN</td>\n",
       "      <td>STANDARD</td>\n",
       "    </tr>\n",
       "    <tr>\n",
       "      <th>14</th>\n",
       "      <td>55422</td>\n",
       "      <td>565</td>\n",
       "      <td>40</td>\n",
       "      <td>M</td>\n",
       "      <td>student</td>\n",
       "      <td>1977</td>\n",
       "      <td>MINNEAPOLIS</td>\n",
       "      <td>MN</td>\n",
       "      <td>STANDARD</td>\n",
       "    </tr>\n",
       "    <tr>\n",
       "      <th>15</th>\n",
       "      <td>78155</td>\n",
       "      <td>90</td>\n",
       "      <td>60</td>\n",
       "      <td>M</td>\n",
       "      <td>educator</td>\n",
       "      <td>1957</td>\n",
       "      <td>SEGUIN</td>\n",
       "      <td>TX</td>\n",
       "      <td>STANDARD</td>\n",
       "    </tr>\n",
       "    <tr>\n",
       "      <th>16</th>\n",
       "      <td>95032</td>\n",
       "      <td>113</td>\n",
       "      <td>47</td>\n",
       "      <td>M</td>\n",
       "      <td>executive</td>\n",
       "      <td>1970</td>\n",
       "      <td>LOS GATOS</td>\n",
       "      <td>CA</td>\n",
       "      <td>STANDARD</td>\n",
       "    </tr>\n",
       "    <tr>\n",
       "      <th>17</th>\n",
       "      <td>60152</td>\n",
       "      <td>817</td>\n",
       "      <td>19</td>\n",
       "      <td>M</td>\n",
       "      <td>student</td>\n",
       "      <td>1998</td>\n",
       "      <td>MARENGO</td>\n",
       "      <td>IL</td>\n",
       "      <td>STANDARD</td>\n",
       "    </tr>\n",
       "    <tr>\n",
       "      <th>18</th>\n",
       "      <td>85032</td>\n",
       "      <td>251</td>\n",
       "      <td>28</td>\n",
       "      <td>M</td>\n",
       "      <td>doctor</td>\n",
       "      <td>1989</td>\n",
       "      <td>PHOENIX</td>\n",
       "      <td>AZ</td>\n",
       "      <td>STANDARD</td>\n",
       "    </tr>\n",
       "    <tr>\n",
       "      <th>19</th>\n",
       "      <td>92507</td>\n",
       "      <td>867</td>\n",
       "      <td>24</td>\n",
       "      <td>M</td>\n",
       "      <td>scientist</td>\n",
       "      <td>1993</td>\n",
       "      <td>RIVERSIDE</td>\n",
       "      <td>CA</td>\n",
       "      <td>STANDARD</td>\n",
       "    </tr>\n",
       "    <tr>\n",
       "      <th>20</th>\n",
       "      <td>00000</td>\n",
       "      <td>186</td>\n",
       "      <td>39</td>\n",
       "      <td>F</td>\n",
       "      <td>executive</td>\n",
       "      <td>1978</td>\n",
       "      <td>None</td>\n",
       "      <td>None</td>\n",
       "      <td>None</td>\n",
       "    </tr>\n",
       "    <tr>\n",
       "      <th>21</th>\n",
       "      <td>00000</td>\n",
       "      <td>767</td>\n",
       "      <td>70</td>\n",
       "      <td>M</td>\n",
       "      <td>engineer</td>\n",
       "      <td>1947</td>\n",
       "      <td>None</td>\n",
       "      <td>None</td>\n",
       "      <td>None</td>\n",
       "    </tr>\n",
       "    <tr>\n",
       "      <th>22</th>\n",
       "      <td>15017</td>\n",
       "      <td>824</td>\n",
       "      <td>31</td>\n",
       "      <td>M</td>\n",
       "      <td>other</td>\n",
       "      <td>1986</td>\n",
       "      <td>BRIDGEVILLE</td>\n",
       "      <td>PA</td>\n",
       "      <td>STANDARD</td>\n",
       "    </tr>\n",
       "    <tr>\n",
       "      <th>23</th>\n",
       "      <td>38866</td>\n",
       "      <td>631</td>\n",
       "      <td>18</td>\n",
       "      <td>F</td>\n",
       "      <td>student</td>\n",
       "      <td>1999</td>\n",
       "      <td>SALTILLO</td>\n",
       "      <td>MS</td>\n",
       "      <td>STANDARD</td>\n",
       "    </tr>\n",
       "    <tr>\n",
       "      <th>24</th>\n",
       "      <td>11217</td>\n",
       "      <td>155</td>\n",
       "      <td>32</td>\n",
       "      <td>F</td>\n",
       "      <td>other</td>\n",
       "      <td>1985</td>\n",
       "      <td>BROOKLYN</td>\n",
       "      <td>NY</td>\n",
       "      <td>STANDARD</td>\n",
       "    </tr>\n",
       "    <tr>\n",
       "      <th>25</th>\n",
       "      <td>11217</td>\n",
       "      <td>557</td>\n",
       "      <td>30</td>\n",
       "      <td>F</td>\n",
       "      <td>writer</td>\n",
       "      <td>1987</td>\n",
       "      <td>BROOKLYN</td>\n",
       "      <td>NY</td>\n",
       "      <td>STANDARD</td>\n",
       "    </tr>\n",
       "    <tr>\n",
       "      <th>26</th>\n",
       "      <td>11217</td>\n",
       "      <td>806</td>\n",
       "      <td>27</td>\n",
       "      <td>M</td>\n",
       "      <td>marketing</td>\n",
       "      <td>1990</td>\n",
       "      <td>BROOKLYN</td>\n",
       "      <td>NY</td>\n",
       "      <td>STANDARD</td>\n",
       "    </tr>\n",
       "    <tr>\n",
       "      <th>27</th>\n",
       "      <td>11758</td>\n",
       "      <td>450</td>\n",
       "      <td>35</td>\n",
       "      <td>F</td>\n",
       "      <td>educator</td>\n",
       "      <td>1982</td>\n",
       "      <td>MASSAPEQUA</td>\n",
       "      <td>NY</td>\n",
       "      <td>STANDARD</td>\n",
       "    </tr>\n",
       "    <tr>\n",
       "      <th>28</th>\n",
       "      <td>20902</td>\n",
       "      <td>876</td>\n",
       "      <td>41</td>\n",
       "      <td>M</td>\n",
       "      <td>other</td>\n",
       "      <td>1976</td>\n",
       "      <td>SILVER SPRING</td>\n",
       "      <td>MD</td>\n",
       "      <td>STANDARD</td>\n",
       "    </tr>\n",
       "    <tr>\n",
       "      <th>29</th>\n",
       "      <td>44074</td>\n",
       "      <td>361</td>\n",
       "      <td>22</td>\n",
       "      <td>M</td>\n",
       "      <td>student</td>\n",
       "      <td>1995</td>\n",
       "      <td>OBERLIN</td>\n",
       "      <td>OH</td>\n",
       "      <td>STANDARD</td>\n",
       "    </tr>\n",
       "    <tr>\n",
       "      <th>...</th>\n",
       "      <td>...</td>\n",
       "      <td>...</td>\n",
       "      <td>...</td>\n",
       "      <td>...</td>\n",
       "      <td>...</td>\n",
       "      <td>...</td>\n",
       "      <td>...</td>\n",
       "      <td>...</td>\n",
       "      <td>...</td>\n",
       "    </tr>\n",
       "    <tr>\n",
       "      <th>913</th>\n",
       "      <td>32789</td>\n",
       "      <td>936</td>\n",
       "      <td>24</td>\n",
       "      <td>M</td>\n",
       "      <td>other</td>\n",
       "      <td>1993</td>\n",
       "      <td>WINTER PARK</td>\n",
       "      <td>FL</td>\n",
       "      <td>STANDARD</td>\n",
       "    </tr>\n",
       "    <tr>\n",
       "      <th>914</th>\n",
       "      <td>21010</td>\n",
       "      <td>538</td>\n",
       "      <td>31</td>\n",
       "      <td>M</td>\n",
       "      <td>scientist</td>\n",
       "      <td>1986</td>\n",
       "      <td>GUNPOWDER</td>\n",
       "      <td>MD</td>\n",
       "      <td>STANDARD</td>\n",
       "    </tr>\n",
       "    <tr>\n",
       "      <th>915</th>\n",
       "      <td>50233</td>\n",
       "      <td>45</td>\n",
       "      <td>29</td>\n",
       "      <td>M</td>\n",
       "      <td>programmer</td>\n",
       "      <td>1988</td>\n",
       "      <td>REDFIELD</td>\n",
       "      <td>IA</td>\n",
       "      <td>STANDARD</td>\n",
       "    </tr>\n",
       "    <tr>\n",
       "      <th>916</th>\n",
       "      <td>70403</td>\n",
       "      <td>731</td>\n",
       "      <td>41</td>\n",
       "      <td>F</td>\n",
       "      <td>educator</td>\n",
       "      <td>1976</td>\n",
       "      <td>HAMMOND</td>\n",
       "      <td>LA</td>\n",
       "      <td>STANDARD</td>\n",
       "    </tr>\n",
       "    <tr>\n",
       "      <th>917</th>\n",
       "      <td>05464</td>\n",
       "      <td>534</td>\n",
       "      <td>20</td>\n",
       "      <td>M</td>\n",
       "      <td>student</td>\n",
       "      <td>1997</td>\n",
       "      <td>JEFFERSONVILLE</td>\n",
       "      <td>VT</td>\n",
       "      <td>STANDARD</td>\n",
       "    </tr>\n",
       "    <tr>\n",
       "      <th>918</th>\n",
       "      <td>28480</td>\n",
       "      <td>353</td>\n",
       "      <td>25</td>\n",
       "      <td>M</td>\n",
       "      <td>scientist</td>\n",
       "      <td>1992</td>\n",
       "      <td>WRIGHTSVILLE BEACH</td>\n",
       "      <td>NC</td>\n",
       "      <td>STANDARD</td>\n",
       "    </tr>\n",
       "    <tr>\n",
       "      <th>919</th>\n",
       "      <td>44648</td>\n",
       "      <td>871</td>\n",
       "      <td>31</td>\n",
       "      <td>M</td>\n",
       "      <td>executive</td>\n",
       "      <td>1986</td>\n",
       "      <td>MASSILLON</td>\n",
       "      <td>OH</td>\n",
       "      <td>PO BOX</td>\n",
       "    </tr>\n",
       "    <tr>\n",
       "      <th>920</th>\n",
       "      <td>75094</td>\n",
       "      <td>197</td>\n",
       "      <td>55</td>\n",
       "      <td>M</td>\n",
       "      <td>technician</td>\n",
       "      <td>1962</td>\n",
       "      <td>PLANO</td>\n",
       "      <td>TX</td>\n",
       "      <td>STANDARD</td>\n",
       "    </tr>\n",
       "    <tr>\n",
       "      <th>921</th>\n",
       "      <td>79508</td>\n",
       "      <td>586</td>\n",
       "      <td>20</td>\n",
       "      <td>M</td>\n",
       "      <td>student</td>\n",
       "      <td>1997</td>\n",
       "      <td>BUFFALO GAP</td>\n",
       "      <td>TX</td>\n",
       "      <td>STANDARD</td>\n",
       "    </tr>\n",
       "    <tr>\n",
       "      <th>922</th>\n",
       "      <td>97208</td>\n",
       "      <td>681</td>\n",
       "      <td>44</td>\n",
       "      <td>F</td>\n",
       "      <td>marketing</td>\n",
       "      <td>1973</td>\n",
       "      <td>PORTLAND</td>\n",
       "      <td>OR</td>\n",
       "      <td>PO BOX</td>\n",
       "    </tr>\n",
       "    <tr>\n",
       "      <th>923</th>\n",
       "      <td>78746</td>\n",
       "      <td>374</td>\n",
       "      <td>36</td>\n",
       "      <td>M</td>\n",
       "      <td>executive</td>\n",
       "      <td>1981</td>\n",
       "      <td>AUSTIN</td>\n",
       "      <td>TX</td>\n",
       "      <td>STANDARD</td>\n",
       "    </tr>\n",
       "    <tr>\n",
       "      <th>924</th>\n",
       "      <td>97203</td>\n",
       "      <td>902</td>\n",
       "      <td>45</td>\n",
       "      <td>F</td>\n",
       "      <td>artist</td>\n",
       "      <td>1972</td>\n",
       "      <td>PORTLAND</td>\n",
       "      <td>OR</td>\n",
       "      <td>STANDARD</td>\n",
       "    </tr>\n",
       "    <tr>\n",
       "      <th>925</th>\n",
       "      <td>53210</td>\n",
       "      <td>911</td>\n",
       "      <td>37</td>\n",
       "      <td>F</td>\n",
       "      <td>writer</td>\n",
       "      <td>1980</td>\n",
       "      <td>MILWAUKEE</td>\n",
       "      <td>WI</td>\n",
       "      <td>STANDARD</td>\n",
       "    </tr>\n",
       "    <tr>\n",
       "      <th>926</th>\n",
       "      <td>53713</td>\n",
       "      <td>285</td>\n",
       "      <td>25</td>\n",
       "      <td>M</td>\n",
       "      <td>programmer</td>\n",
       "      <td>1992</td>\n",
       "      <td>MADISON</td>\n",
       "      <td>WI</td>\n",
       "      <td>STANDARD</td>\n",
       "    </tr>\n",
       "    <tr>\n",
       "      <th>927</th>\n",
       "      <td>60515</td>\n",
       "      <td>542</td>\n",
       "      <td>21</td>\n",
       "      <td>M</td>\n",
       "      <td>student</td>\n",
       "      <td>1996</td>\n",
       "      <td>DOWNERS GROVE</td>\n",
       "      <td>IL</td>\n",
       "      <td>STANDARD</td>\n",
       "    </tr>\n",
       "    <tr>\n",
       "      <th>928</th>\n",
       "      <td>84601</td>\n",
       "      <td>265</td>\n",
       "      <td>26</td>\n",
       "      <td>M</td>\n",
       "      <td>executive</td>\n",
       "      <td>1991</td>\n",
       "      <td>PROVO</td>\n",
       "      <td>UT</td>\n",
       "      <td>STANDARD</td>\n",
       "    </tr>\n",
       "    <tr>\n",
       "      <th>929</th>\n",
       "      <td>11238</td>\n",
       "      <td>721</td>\n",
       "      <td>24</td>\n",
       "      <td>F</td>\n",
       "      <td>entertainment</td>\n",
       "      <td>1993</td>\n",
       "      <td>BROOKLYN</td>\n",
       "      <td>NY</td>\n",
       "      <td>STANDARD</td>\n",
       "    </tr>\n",
       "    <tr>\n",
       "      <th>930</th>\n",
       "      <td>15222</td>\n",
       "      <td>412</td>\n",
       "      <td>25</td>\n",
       "      <td>M</td>\n",
       "      <td>educator</td>\n",
       "      <td>1992</td>\n",
       "      <td>PITTSBURGH</td>\n",
       "      <td>PA</td>\n",
       "      <td>STANDARD</td>\n",
       "    </tr>\n",
       "    <tr>\n",
       "      <th>931</th>\n",
       "      <td>20008</td>\n",
       "      <td>123</td>\n",
       "      <td>48</td>\n",
       "      <td>F</td>\n",
       "      <td>artist</td>\n",
       "      <td>1969</td>\n",
       "      <td>WASHINGTON</td>\n",
       "      <td>DC</td>\n",
       "      <td>STANDARD</td>\n",
       "    </tr>\n",
       "    <tr>\n",
       "      <th>932</th>\n",
       "      <td>60007</td>\n",
       "      <td>435</td>\n",
       "      <td>24</td>\n",
       "      <td>M</td>\n",
       "      <td>engineer</td>\n",
       "      <td>1993</td>\n",
       "      <td>ELK GROVE VILLAGE</td>\n",
       "      <td>IL</td>\n",
       "      <td>STANDARD</td>\n",
       "    </tr>\n",
       "    <tr>\n",
       "      <th>933</th>\n",
       "      <td>14850</td>\n",
       "      <td>622</td>\n",
       "      <td>25</td>\n",
       "      <td>M</td>\n",
       "      <td>programmer</td>\n",
       "      <td>1992</td>\n",
       "      <td>ITHACA</td>\n",
       "      <td>NY</td>\n",
       "      <td>STANDARD</td>\n",
       "    </tr>\n",
       "    <tr>\n",
       "      <th>934</th>\n",
       "      <td>19047</td>\n",
       "      <td>746</td>\n",
       "      <td>25</td>\n",
       "      <td>M</td>\n",
       "      <td>engineer</td>\n",
       "      <td>1992</td>\n",
       "      <td>LANGHORNE</td>\n",
       "      <td>PA</td>\n",
       "      <td>STANDARD</td>\n",
       "    </tr>\n",
       "    <tr>\n",
       "      <th>935</th>\n",
       "      <td>60466</td>\n",
       "      <td>107</td>\n",
       "      <td>39</td>\n",
       "      <td>M</td>\n",
       "      <td>scientist</td>\n",
       "      <td>1978</td>\n",
       "      <td>PARK FOREST</td>\n",
       "      <td>IL</td>\n",
       "      <td>STANDARD</td>\n",
       "    </tr>\n",
       "    <tr>\n",
       "      <th>936</th>\n",
       "      <td>02215</td>\n",
       "      <td>76</td>\n",
       "      <td>20</td>\n",
       "      <td>M</td>\n",
       "      <td>student</td>\n",
       "      <td>1997</td>\n",
       "      <td>BOSTON</td>\n",
       "      <td>MA</td>\n",
       "      <td>STANDARD</td>\n",
       "    </tr>\n",
       "    <tr>\n",
       "      <th>937</th>\n",
       "      <td>02215</td>\n",
       "      <td>216</td>\n",
       "      <td>22</td>\n",
       "      <td>M</td>\n",
       "      <td>engineer</td>\n",
       "      <td>1995</td>\n",
       "      <td>BOSTON</td>\n",
       "      <td>MA</td>\n",
       "      <td>STANDARD</td>\n",
       "    </tr>\n",
       "    <tr>\n",
       "      <th>938</th>\n",
       "      <td>02215</td>\n",
       "      <td>940</td>\n",
       "      <td>32</td>\n",
       "      <td>M</td>\n",
       "      <td>administrator</td>\n",
       "      <td>1985</td>\n",
       "      <td>BOSTON</td>\n",
       "      <td>MA</td>\n",
       "      <td>STANDARD</td>\n",
       "    </tr>\n",
       "    <tr>\n",
       "      <th>939</th>\n",
       "      <td>55108</td>\n",
       "      <td>103</td>\n",
       "      <td>26</td>\n",
       "      <td>M</td>\n",
       "      <td>student</td>\n",
       "      <td>1991</td>\n",
       "      <td>SAINT PAUL</td>\n",
       "      <td>MN</td>\n",
       "      <td>STANDARD</td>\n",
       "    </tr>\n",
       "    <tr>\n",
       "      <th>940</th>\n",
       "      <td>55108</td>\n",
       "      <td>104</td>\n",
       "      <td>27</td>\n",
       "      <td>M</td>\n",
       "      <td>student</td>\n",
       "      <td>1990</td>\n",
       "      <td>SAINT PAUL</td>\n",
       "      <td>MN</td>\n",
       "      <td>STANDARD</td>\n",
       "    </tr>\n",
       "    <tr>\n",
       "      <th>941</th>\n",
       "      <td>55108</td>\n",
       "      <td>404</td>\n",
       "      <td>29</td>\n",
       "      <td>F</td>\n",
       "      <td>programmer</td>\n",
       "      <td>1988</td>\n",
       "      <td>SAINT PAUL</td>\n",
       "      <td>MN</td>\n",
       "      <td>STANDARD</td>\n",
       "    </tr>\n",
       "    <tr>\n",
       "      <th>942</th>\n",
       "      <td>70124</td>\n",
       "      <td>906</td>\n",
       "      <td>45</td>\n",
       "      <td>M</td>\n",
       "      <td>librarian</td>\n",
       "      <td>1972</td>\n",
       "      <td>NEW ORLEANS</td>\n",
       "      <td>LA</td>\n",
       "      <td>STANDARD</td>\n",
       "    </tr>\n",
       "  </tbody>\n",
       "</table>\n",
       "<p>943 rows × 9 columns</p>\n",
       "</div>"
      ],
      "text/plain": [
       "    zipcode  userid  age gender     occupation  birthyear                City  \\\n",
       "0     21911     175   26      F      scientist       1991          RISING SUN   \n",
       "1     80521      66   23      M        student       1994        FORT COLLINS   \n",
       "2     12550      48   45      M  administrator       1972            NEWBURGH   \n",
       "3     48043     636   47      M       educator       1970       MOUNT CLEMENS   \n",
       "4     91505     896   28      M         writer       1989             BURBANK   \n",
       "5     98405     732   28      F          other       1989              TACOMA   \n",
       "6     10960     204   52      F      librarian       1965               NYACK   \n",
       "7     10960     766   42      M          other       1975               NYACK   \n",
       "8     14211     760   35      F          other       1982             BUFFALO   \n",
       "9     62903     764   27      F       educator       1990          CARBONDALE   \n",
       "10    48103     151   38      F  administrator       1979           ANN ARBOR   \n",
       "11    48103     417   27      F          other       1990           ANN ARBOR   \n",
       "12    48103     579   32      M       educator       1985           ANN ARBOR   \n",
       "13    55422     424   36      F      marketing       1981         MINNEAPOLIS   \n",
       "14    55422     565   40      M        student       1977         MINNEAPOLIS   \n",
       "15    78155      90   60      M       educator       1957              SEGUIN   \n",
       "16    95032     113   47      M      executive       1970           LOS GATOS   \n",
       "17    60152     817   19      M        student       1998             MARENGO   \n",
       "18    85032     251   28      M         doctor       1989             PHOENIX   \n",
       "19    92507     867   24      M      scientist       1993           RIVERSIDE   \n",
       "20    00000     186   39      F      executive       1978                None   \n",
       "21    00000     767   70      M       engineer       1947                None   \n",
       "22    15017     824   31      M          other       1986         BRIDGEVILLE   \n",
       "23    38866     631   18      F        student       1999            SALTILLO   \n",
       "24    11217     155   32      F          other       1985            BROOKLYN   \n",
       "25    11217     557   30      F         writer       1987            BROOKLYN   \n",
       "26    11217     806   27      M      marketing       1990            BROOKLYN   \n",
       "27    11758     450   35      F       educator       1982          MASSAPEQUA   \n",
       "28    20902     876   41      M          other       1976       SILVER SPRING   \n",
       "29    44074     361   22      M        student       1995             OBERLIN   \n",
       "..      ...     ...  ...    ...            ...        ...                 ...   \n",
       "913   32789     936   24      M          other       1993         WINTER PARK   \n",
       "914   21010     538   31      M      scientist       1986           GUNPOWDER   \n",
       "915   50233      45   29      M     programmer       1988            REDFIELD   \n",
       "916   70403     731   41      F       educator       1976             HAMMOND   \n",
       "917   05464     534   20      M        student       1997      JEFFERSONVILLE   \n",
       "918   28480     353   25      M      scientist       1992  WRIGHTSVILLE BEACH   \n",
       "919   44648     871   31      M      executive       1986           MASSILLON   \n",
       "920   75094     197   55      M     technician       1962               PLANO   \n",
       "921   79508     586   20      M        student       1997         BUFFALO GAP   \n",
       "922   97208     681   44      F      marketing       1973            PORTLAND   \n",
       "923   78746     374   36      M      executive       1981              AUSTIN   \n",
       "924   97203     902   45      F         artist       1972            PORTLAND   \n",
       "925   53210     911   37      F         writer       1980           MILWAUKEE   \n",
       "926   53713     285   25      M     programmer       1992             MADISON   \n",
       "927   60515     542   21      M        student       1996       DOWNERS GROVE   \n",
       "928   84601     265   26      M      executive       1991               PROVO   \n",
       "929   11238     721   24      F  entertainment       1993            BROOKLYN   \n",
       "930   15222     412   25      M       educator       1992          PITTSBURGH   \n",
       "931   20008     123   48      F         artist       1969          WASHINGTON   \n",
       "932   60007     435   24      M       engineer       1993   ELK GROVE VILLAGE   \n",
       "933   14850     622   25      M     programmer       1992              ITHACA   \n",
       "934   19047     746   25      M       engineer       1992           LANGHORNE   \n",
       "935   60466     107   39      M      scientist       1978         PARK FOREST   \n",
       "936   02215      76   20      M        student       1997              BOSTON   \n",
       "937   02215     216   22      M       engineer       1995              BOSTON   \n",
       "938   02215     940   32      M  administrator       1985              BOSTON   \n",
       "939   55108     103   26      M        student       1991          SAINT PAUL   \n",
       "940   55108     104   27      M        student       1990          SAINT PAUL   \n",
       "941   55108     404   29      F     programmer       1988          SAINT PAUL   \n",
       "942   70124     906   45      M      librarian       1972         NEW ORLEANS   \n",
       "\n",
       "    State ZipCodeType  \n",
       "0      MD    STANDARD  \n",
       "1      CO    STANDARD  \n",
       "2      NY    STANDARD  \n",
       "3      MI    STANDARD  \n",
       "4      CA    STANDARD  \n",
       "5      WA    STANDARD  \n",
       "6      NY    STANDARD  \n",
       "7      NY    STANDARD  \n",
       "8      NY    STANDARD  \n",
       "9      IL    STANDARD  \n",
       "10     MI    STANDARD  \n",
       "11     MI    STANDARD  \n",
       "12     MI    STANDARD  \n",
       "13     MN    STANDARD  \n",
       "14     MN    STANDARD  \n",
       "15     TX    STANDARD  \n",
       "16     CA    STANDARD  \n",
       "17     IL    STANDARD  \n",
       "18     AZ    STANDARD  \n",
       "19     CA    STANDARD  \n",
       "20   None        None  \n",
       "21   None        None  \n",
       "22     PA    STANDARD  \n",
       "23     MS    STANDARD  \n",
       "24     NY    STANDARD  \n",
       "25     NY    STANDARD  \n",
       "26     NY    STANDARD  \n",
       "27     NY    STANDARD  \n",
       "28     MD    STANDARD  \n",
       "29     OH    STANDARD  \n",
       "..    ...         ...  \n",
       "913    FL    STANDARD  \n",
       "914    MD    STANDARD  \n",
       "915    IA    STANDARD  \n",
       "916    LA    STANDARD  \n",
       "917    VT    STANDARD  \n",
       "918    NC    STANDARD  \n",
       "919    OH      PO BOX  \n",
       "920    TX    STANDARD  \n",
       "921    TX    STANDARD  \n",
       "922    OR      PO BOX  \n",
       "923    TX    STANDARD  \n",
       "924    OR    STANDARD  \n",
       "925    WI    STANDARD  \n",
       "926    WI    STANDARD  \n",
       "927    IL    STANDARD  \n",
       "928    UT    STANDARD  \n",
       "929    NY    STANDARD  \n",
       "930    PA    STANDARD  \n",
       "931    DC    STANDARD  \n",
       "932    IL    STANDARD  \n",
       "933    NY    STANDARD  \n",
       "934    PA    STANDARD  \n",
       "935    IL    STANDARD  \n",
       "936    MA    STANDARD  \n",
       "937    MA    STANDARD  \n",
       "938    MA    STANDARD  \n",
       "939    MN    STANDARD  \n",
       "940    MN    STANDARD  \n",
       "941    MN    STANDARD  \n",
       "942    LA    STANDARD  \n",
       "\n",
       "[943 rows x 9 columns]"
      ]
     },
     "execution_count": 331,
     "metadata": {},
     "output_type": "execute_result"
    }
   ],
   "source": [
    "# 將 spark DF 轉為 pandas DF\n",
    "df_join.toPandas()"
   ]
  },
  {
   "cell_type": "markdown",
   "metadata": {},
   "source": [
    "# 6.  Register Temp Table"
   ]
  },
  {
   "cell_type": "markdown",
   "metadata": {},
   "source": [
    "## Spark SQL"
   ]
  },
  {
   "cell_type": "markdown",
   "metadata": {},
   "source": [
    "Spark SQL是由Spark DF衍生而來的，必須先建立Spark DF，然後透過登錄Spark SQL temp table，就可以使用Spark SQL語法。"
   ]
  },
  {
   "cell_type": "code",
   "execution_count": 332,
   "metadata": {
    "collapsed": true
   },
   "outputs": [],
   "source": [
    "df_join.registerTempTable(\"join_table\")"
   ]
  },
  {
   "cell_type": "code",
   "execution_count": 333,
   "metadata": {
    "collapsed": false
   },
   "outputs": [
    {
     "name": "stdout",
     "output_type": "stream",
     "text": [
      "+-------+------+---+------+-------------+---------+-------------+-----+-----------+\n",
      "|zipcode|userid|age|gender|   occupation|birthyear|         City|State|ZipCodeType|\n",
      "+-------+------+---+------+-------------+---------+-------------+-----+-----------+\n",
      "|  21911|   175| 26|     F|    scientist|     1991|   RISING SUN|   MD|   STANDARD|\n",
      "|  80521|    66| 23|     M|      student|     1994| FORT COLLINS|   CO|   STANDARD|\n",
      "|  12550|    48| 45|     M|administrator|     1972|     NEWBURGH|   NY|   STANDARD|\n",
      "|  48043|   636| 47|     M|     educator|     1970|MOUNT CLEMENS|   MI|   STANDARD|\n",
      "|  91505|   896| 28|     M|       writer|     1989|      BURBANK|   CA|   STANDARD|\n",
      "+-------+------+---+------+-------------+---------+-------------+-----+-----------+\n",
      "\n"
     ]
    }
   ],
   "source": [
    "sqlContext.sql(\"\"\"\n",
    "SELECT  *\n",
    "FROM    join_table\n",
    "LIMIT   5\n",
    "\"\"\").show()"
   ]
  },
  {
   "cell_type": "code",
   "execution_count": 334,
   "metadata": {
    "collapsed": true
   },
   "outputs": [],
   "source": [
    "query_result = sqlContext.sql(\"\"\"\n",
    "                                SELECT  *\n",
    "                                FROM    join_table\n",
    "                                LIMIT   5\n",
    "                              \"\"\")"
   ]
  },
  {
   "cell_type": "code",
   "execution_count": 335,
   "metadata": {
    "collapsed": false
   },
   "outputs": [
    {
     "data": {
      "text/plain": [
       "pyspark.sql.dataframe.DataFrame"
      ]
     },
     "execution_count": 335,
     "metadata": {},
     "output_type": "execute_result"
    }
   ],
   "source": [
    "type(query_result)"
   ]
  }
 ],
 "metadata": {
  "anaconda-cloud": {},
  "kernelspec": {
   "display_name": "Python [default]",
   "language": "python",
   "name": "python2"
  },
  "language_info": {
   "codemirror_mode": {
    "name": "ipython",
    "version": 2
   },
   "file_extension": ".py",
   "mimetype": "text/x-python",
   "name": "python",
   "nbconvert_exporter": "python",
   "pygments_lexer": "ipython2",
   "version": "2.7.12"
  }
 },
 "nbformat": 4,
 "nbformat_minor": 1
}
