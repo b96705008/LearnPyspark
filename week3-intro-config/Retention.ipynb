{
 "cells": [
  {
   "cell_type": "code",
   "execution_count": 1,
   "metadata": {
    "collapsed": false
   },
   "outputs": [],
   "source": [
    "from itertools import chain,combinations\n",
    "from pyspark.sql import HiveContext,DataFrameWriter\n",
    "from pyspark.sql.types import *\n",
    "from pyspark.sql.functions import udf,col\n",
    "\n",
    "import time\n",
    "import datetime\n",
    "from functools import partial\n",
    "\n",
    "hc = HiveContext(sc)"
   ]
  },
  {
   "cell_type": "code",
   "execution_count": 2,
   "metadata": {
    "collapsed": false
   },
   "outputs": [],
   "source": [
    "hc.setConf(\"hive.exec.dynamic.partition.mode\", \"nonstrict\")\n",
    "hc.setConf(\"spark.sql.parquet.compression.codec\", \"uncompressed\")"
   ]
  },
  {
   "cell_type": "code",
   "execution_count": 3,
   "metadata": {
    "collapsed": false
   },
   "outputs": [
    {
     "name": "stdout",
     "output_type": "stream",
     "text": [
      "root\n",
      " |-- cookieuniquevisitortrackingid: string (nullable = true)\n",
      " |-- list_eventdt: array (nullable = true)\n",
      " |    |-- element: string (containsNull = true)\n",
      " |-- max_eventdt: string (nullable = true)\n",
      " |-- min_eventdt: string (nullable = true)\n",
      " |-- list_eventdt_web: array (nullable = true)\n",
      " |    |-- element: string (containsNull = true)\n",
      " |-- list_eventdt_mybank: array (nullable = true)\n",
      " |    |-- element: string (containsNull = true)\n",
      " |-- list_eventdt_b2b: array (nullable = true)\n",
      " |    |-- element: string (containsNull = true)\n",
      " |-- list_eventdt_koko: array (nullable = true)\n",
      " |    |-- element: string (containsNull = true)\n",
      " |-- list_eventdt_app: array (nullable = true)\n",
      " |    |-- element: string (containsNull = true)\n",
      " |-- list_customer_id: array (nullable = true)\n",
      " |    |-- element: string (containsNull = true)\n",
      " |-- list_sessionnumber: array (nullable = true)\n",
      " |    |-- element: long (containsNull = true)\n",
      "\n"
     ]
    }
   ],
   "source": [
    "rowdf= hc.sql('''\n",
    "               SELECT   *\n",
    "               FROM     vp_bank.adw_cookie_profile \n",
    "               ''')\n",
    "rowdf.printSchema()"
   ]
  },
  {
   "cell_type": "code",
   "execution_count": 4,
   "metadata": {
    "collapsed": false
   },
   "outputs": [
    {
     "name": "stdout",
     "output_type": "stream",
     "text": [
      "+-----------------------------+--------------------+-----------+-----------+--------------------+--------------------+----------------+-----------------+--------------------+--------------------+--------------------+\n",
      "|cookieuniquevisitortrackingid|        list_eventdt|max_eventdt|min_eventdt|    list_eventdt_web| list_eventdt_mybank|list_eventdt_b2b|list_eventdt_koko|    list_eventdt_app|    list_customer_id|  list_sessionnumber|\n",
      "+-----------------------------+--------------------+-----------+-----------+--------------------+--------------------+----------------+-----------------+--------------------+--------------------+--------------------+\n",
      "|         000022c0986b41399...|        [2017-03-02]| 2017-03-02| 2017-03-02|                null|        [2017-03-02]|            null|             null|                null|[T26EF87FBF6218A5E9]|         [104065234]|\n",
      "|         00002cbd3572465a9...|        [2016-09-04]| 2016-09-04| 2016-09-04|                null|        [2016-09-04]|            null|             null|                null|[A10939CD1FDC5B5B2C]|          [36610355]|\n",
      "|         0000435400e94f2da...|        [2017-04-10]| 2017-04-10| 2017-04-10|                null|        [2017-04-10]|            null|             null|                null|                null|                null|\n",
      "|         0000adcb16314744b...|        [2016-10-31]| 2016-10-31| 2016-10-31|        [2016-10-31]|                null|            null|             null|                null|                null|                null|\n",
      "|         0000e1b5328c425a8...|        [2017-01-15]| 2017-01-15| 2017-01-15|        [2017-01-15]|                null|            null|             null|                null|                null|                null|\n",
      "|         000109cde40b42908...|[2016-11-21, 2017...| 2017-03-01| 2016-11-21|[2016-11-21, 2017...|                null|            null|             null|                null|                null|                null|\n",
      "|         0001ef219be7481fa...|        [2016-12-13]| 2016-12-13| 2016-12-13|        [2016-12-13]|                null|            null|             null|                null|                null|                null|\n",
      "|         0001f0e5c94348bd8...|        [2017-05-08]| 2017-05-08| 2017-05-08|        [2017-05-08]|                null|            null|             null|                null|                null|                null|\n",
      "|         000250cabce94f058...|        [2017-04-16]| 2017-04-16| 2017-04-16|        [2017-04-16]|                null|            null|             null|                null|                null|                null|\n",
      "|         0002a4a07cb7486f9...|        [2017-04-29]| 2017-04-29| 2017-04-29|        [2017-04-29]|                null|            null|             null|                null|                null|                null|\n",
      "|         000374e251a64b238...|        [2016-10-10]| 2016-10-10| 2016-10-10|        [2016-10-10]|                null|            null|             null|                null|                null|                null|\n",
      "|         0003a3bb0c6649e09...|        [2016-09-20]| 2016-09-20| 2016-09-20|                null|        [2016-09-20]|            null|             null|                null|[H1A5530E70D40B6E24]|          [42305168]|\n",
      "|         0003d9ce655640d5a...|        [2016-12-09]| 2016-12-09| 2016-12-09|                null|        [2016-12-09]|            null|             null|                null|[R104B3F00F955EEFB7]|          [71414764]|\n",
      "|         0003eca4fbc8413f8...|[2016-09-04, 2016...| 2017-04-14| 2016-09-04|                null|[2016-09-04, 2016...|            null|             null|                null|[R1B365B037D075A97A]|[36626426, 768620...|\n",
      "|         000464f90a2f498ab...|[2017-03-20, 2017...| 2017-05-12| 2017-03-20|[2017-03-20, 2017...|[2017-04-05, 2017...|            null|             null|                null|[H2906F989AC689C5AE]|[116958589, 12637...|\n",
      "|         0004868425b249958...|[2016-09-11, 2016...| 2016-10-12| 2016-09-11|[2016-09-11, 2016...|        [2016-10-12]|            null|             null|                null|[A1FEE2FF122D740806]|          [49795501]|\n",
      "|         0004c29d13484b949...|        [2017-03-29]| 2017-03-29| 2017-03-29|        [2017-03-29]|                null|            null|             null|                null|                null|                null|\n",
      "|         000501a1a88e494b9...|[2017-01-06, 2017...| 2017-01-10| 2017-01-06|                null|                null|            null|             null|[2017-01-06, 2017...|                null|                null|\n",
      "|         0005085ebd9f48a8a...|        [2017-04-13]| 2017-04-13| 2017-04-13|        [2017-04-13]|                null|            null|             null|                null|                null|                null|\n",
      "|         000528baf6214c689...|[2017-03-10, 2017...| 2017-03-14| 2017-03-10|                null|                null|            null|             null|[2017-03-10, 2017...|                null|                null|\n",
      "+-----------------------------+--------------------+-----------+-----------+--------------------+--------------------+----------------+-----------------+--------------------+--------------------+--------------------+\n",
      "only showing top 20 rows\n",
      "\n"
     ]
    }
   ],
   "source": [
    "rowdf.show()"
   ]
  },
  {
   "cell_type": "code",
   "execution_count": 5,
   "metadata": {
    "collapsed": true
   },
   "outputs": [],
   "source": [
    "def listoutput(dtlist, idx):\n",
    "    try:\n",
    "        date = dtlist[idx]\n",
    "    except:\n",
    "        date = None\n",
    "        \n",
    "    return date"
   ]
  },
  {
   "cell_type": "markdown",
   "metadata": {},
   "source": [
    "## 第一次和第二次回訪時間"
   ]
  },
  {
   "cell_type": "code",
   "execution_count": 8,
   "metadata": {
    "collapsed": true
   },
   "outputs": [],
   "source": [
    "list_udf_0 = udf(lambda c: listoutput(c, 0), StringType())\n",
    "list_udf_1 = udf(lambda c: listoutput(c, 1), StringType())"
   ]
  },
  {
   "cell_type": "code",
   "execution_count": 7,
   "metadata": {
    "collapsed": false
   },
   "outputs": [],
   "source": [
    "list_udf_X = udf(lambda c: 0 if c[0] is None else 1, StringType())"
   ]
  },
  {
   "cell_type": "markdown",
   "metadata": {},
   "source": [
    "## 篩掉APP資料"
   ]
  },
  {
   "cell_type": "code",
   "execution_count": 9,
   "metadata": {
    "collapsed": false
   },
   "outputs": [
    {
     "name": "stdout",
     "output_type": "stream",
     "text": [
      "+-----------------------------+--------------------+-----------+-----------+--------------------+--------------------+----------------+-----------------+----------------+--------------------+--------------------+\n",
      "|cookieuniquevisitortrackingid|        list_eventdt|max_eventdt|min_eventdt|    list_eventdt_web| list_eventdt_mybank|list_eventdt_b2b|list_eventdt_koko|list_eventdt_app|    list_customer_id|  list_sessionnumber|\n",
      "+-----------------------------+--------------------+-----------+-----------+--------------------+--------------------+----------------+-----------------+----------------+--------------------+--------------------+\n",
      "|         000022c0986b41399...|        [2017-03-02]| 2017-03-02| 2017-03-02|                null|        [2017-03-02]|            null|             null|            null|[T26EF87FBF6218A5E9]|         [104065234]|\n",
      "|         00002cbd3572465a9...|        [2016-09-04]| 2016-09-04| 2016-09-04|                null|        [2016-09-04]|            null|             null|            null|[A10939CD1FDC5B5B2C]|          [36610355]|\n",
      "|         0000435400e94f2da...|        [2017-04-10]| 2017-04-10| 2017-04-10|                null|        [2017-04-10]|            null|             null|            null|                null|                null|\n",
      "|         0000adcb16314744b...|        [2016-10-31]| 2016-10-31| 2016-10-31|        [2016-10-31]|                null|            null|             null|            null|                null|                null|\n",
      "|         0000e1b5328c425a8...|        [2017-01-15]| 2017-01-15| 2017-01-15|        [2017-01-15]|                null|            null|             null|            null|                null|                null|\n",
      "|         000109cde40b42908...|[2016-11-21, 2017...| 2017-03-01| 2016-11-21|[2016-11-21, 2017...|                null|            null|             null|            null|                null|                null|\n",
      "|         0001ef219be7481fa...|        [2016-12-13]| 2016-12-13| 2016-12-13|        [2016-12-13]|                null|            null|             null|            null|                null|                null|\n",
      "|         0001f0e5c94348bd8...|        [2017-05-08]| 2017-05-08| 2017-05-08|        [2017-05-08]|                null|            null|             null|            null|                null|                null|\n",
      "|         000250cabce94f058...|        [2017-04-16]| 2017-04-16| 2017-04-16|        [2017-04-16]|                null|            null|             null|            null|                null|                null|\n",
      "|         0002a4a07cb7486f9...|        [2017-04-29]| 2017-04-29| 2017-04-29|        [2017-04-29]|                null|            null|             null|            null|                null|                null|\n",
      "|         000374e251a64b238...|        [2016-10-10]| 2016-10-10| 2016-10-10|        [2016-10-10]|                null|            null|             null|            null|                null|                null|\n",
      "|         0003a3bb0c6649e09...|        [2016-09-20]| 2016-09-20| 2016-09-20|                null|        [2016-09-20]|            null|             null|            null|[H1A5530E70D40B6E24]|          [42305168]|\n",
      "|         0003d9ce655640d5a...|        [2016-12-09]| 2016-12-09| 2016-12-09|                null|        [2016-12-09]|            null|             null|            null|[R104B3F00F955EEFB7]|          [71414764]|\n",
      "|         0003eca4fbc8413f8...|[2016-09-04, 2016...| 2017-04-14| 2016-09-04|                null|[2016-09-04, 2016...|            null|             null|            null|[R1B365B037D075A97A]|[36626426, 768620...|\n",
      "|         000464f90a2f498ab...|[2017-03-20, 2017...| 2017-05-12| 2017-03-20|[2017-03-20, 2017...|[2017-04-05, 2017...|            null|             null|            null|[H2906F989AC689C5AE]|[116958589, 12637...|\n",
      "|         0004868425b249958...|[2016-09-11, 2016...| 2016-10-12| 2016-09-11|[2016-09-11, 2016...|        [2016-10-12]|            null|             null|            null|[A1FEE2FF122D740806]|          [49795501]|\n",
      "|         0004c29d13484b949...|        [2017-03-29]| 2017-03-29| 2017-03-29|        [2017-03-29]|                null|            null|             null|            null|                null|                null|\n",
      "|         0005085ebd9f48a8a...|        [2017-04-13]| 2017-04-13| 2017-04-13|        [2017-04-13]|                null|            null|             null|            null|                null|                null|\n",
      "|         00053ee9695d44539...|        [2017-01-03]| 2017-01-03| 2017-01-03|        [2017-01-03]|                null|            null|             null|            null|                null|                null|\n",
      "|         00061df066094b678...|        [2017-01-01]| 2017-01-01| 2017-01-01|        [2017-01-01]|                null|            null|             null|            null|                null|                null|\n",
      "+-----------------------------+--------------------+-----------+-----------+--------------------+--------------------+----------------+-----------------+----------------+--------------------+--------------------+\n",
      "only showing top 20 rows\n",
      "\n"
     ]
    }
   ],
   "source": [
    "rowdf.where(list_udf_0(\"list_eventdt_app\").isNull()).show()\n",
    "#rowdf.where(list_udf_0(\"list_eventdt_app\").isNotNull())\\\n",
    "#     .where(list_udf_0(\"list_eventdt_web\").isNotNull()).show()\n"
   ]
  },
  {
   "cell_type": "markdown",
   "metadata": {},
   "source": [
    "## 計算第一、二次回訪時間"
   ]
  },
  {
   "cell_type": "code",
   "execution_count": 10,
   "metadata": {
    "collapsed": false
   },
   "outputs": [],
   "source": [
    "date0='2017-02-02'\n",
    "row2df = rowdf.where(list_udf_0(\"list_eventdt_app\").isNull())\\\n",
    "              .select(rowdf[\"cookieuniquevisitortrackingid\"].alias(\"cookie_id\"),\\\n",
    "                      \"list_eventdt\",\\\n",
    "                      list_udf_0(\"list_eventdt\").alias(\"1stVisit\"),\\\n",
    "                      list_udf_1(\"list_eventdt\").alias(\"2ndVisit\")\\\n",
    "                     )\\\n",
    "              .where(col('1stVisit')==date0)"
   ]
  },
  {
   "cell_type": "code",
   "execution_count": 11,
   "metadata": {
    "collapsed": false
   },
   "outputs": [
    {
     "name": "stdout",
     "output_type": "stream",
     "text": [
      "+--------------------+--------------------+----------+----------+\n",
      "|           cookie_id|        list_eventdt|  1stVisit|  2ndVisit|\n",
      "+--------------------+--------------------+----------+----------+\n",
      "|003a7bc7069f4883a...|        [2017-02-02]|2017-02-02|      null|\n",
      "|003fb9966439406c9...|        [2017-02-02]|2017-02-02|      null|\n",
      "|014dde5d40da43eab...|[2017-02-02, 2017...|2017-02-02|2017-02-03|\n",
      "|0156e57a113c4f6bb...|[2017-02-02, 2017...|2017-02-02|2017-02-03|\n",
      "|018eea782eb4482b8...|        [2017-02-02]|2017-02-02|      null|\n",
      "|01db25d887274806a...|        [2017-02-02]|2017-02-02|      null|\n",
      "|01f18ad06ca54fbba...|        [2017-02-02]|2017-02-02|      null|\n",
      "|01f99fd605fe48fda...|[2017-02-02, 2017...|2017-02-02|2017-02-06|\n",
      "|021b5fd6b40a43e88...|        [2017-02-02]|2017-02-02|      null|\n",
      "|02b6e071ed6247dba...|        [2017-02-02]|2017-02-02|      null|\n",
      "|030adf9b6b914b2ba...|[2017-02-02, 2017...|2017-02-02|2017-02-11|\n",
      "|03276460d8374ff9b...|        [2017-02-02]|2017-02-02|      null|\n",
      "|033069a98cbb42af9...|[2017-02-02, 2017...|2017-02-02|2017-02-14|\n",
      "|03a4882ce34740158...|        [2017-02-02]|2017-02-02|      null|\n",
      "|03fc58c871214b6db...|        [2017-02-02]|2017-02-02|      null|\n",
      "|0452bd6353034efdb...|        [2017-02-02]|2017-02-02|      null|\n",
      "|048a2c5c9273465cb...|        [2017-02-02]|2017-02-02|      null|\n",
      "|04acc95bee3f4228b...|        [2017-02-02]|2017-02-02|      null|\n",
      "|04ef11645e264a1ba...|        [2017-02-02]|2017-02-02|      null|\n",
      "|0523a8fcc2bb4599b...|        [2017-02-02]|2017-02-02|      null|\n",
      "+--------------------+--------------------+----------+----------+\n",
      "only showing top 20 rows\n",
      "\n"
     ]
    }
   ],
   "source": [
    "row2df.show()"
   ]
  },
  {
   "cell_type": "markdown",
   "metadata": {},
   "source": [
    "## 計算拜訪時間差"
   ]
  },
  {
   "cell_type": "code",
   "execution_count": 38,
   "metadata": {
    "collapsed": false
   },
   "outputs": [],
   "source": [
    "def daydiff(firstday, secondday):\n",
    "    try:\n",
    "        diff = datetime.datetime.strptime(secondday,\"%Y-%m-%d\") - datetime.datetime.strptime(firstday,\"%Y-%m-%d\")\n",
    "        return diff.days\n",
    "    except:\n",
    "        return 0"
   ]
  },
  {
   "cell_type": "code",
   "execution_count": 39,
   "metadata": {
    "collapsed": false
   },
   "outputs": [
    {
     "name": "stdout",
     "output_type": "stream",
     "text": [
      "+--------------------+--------------------+----------+----------+----+\n",
      "|           cookie_id|        list_eventdt|  1stVisit|  2ndVisit|diff|\n",
      "+--------------------+--------------------+----------+----------+----+\n",
      "|00019ca6625b49ecb...|        [2017-02-02]|2017-02-02|      null|   0|\n",
      "|0004d0a738444576a...|[2017-02-02, 2017...|2017-02-02|2017-02-17|  15|\n",
      "|00505d6ee6404bc19...|        [2017-02-02]|2017-02-02|      null|   0|\n",
      "|006ca3d618ab4efe8...|        [2017-02-02]|2017-02-02|      null|   0|\n",
      "|00a23cd756ff46cbb...|[2017-02-02, 2017...|2017-02-02|2017-02-03|   1|\n",
      "|0118a852128e43869...|[2017-02-02, 2017...|2017-02-02|2017-02-27|  25|\n",
      "|012abbd4f9264d859...|[2017-02-02, 2017...|2017-02-02|2017-02-03|   1|\n",
      "|018d44219db643e58...|        [2017-02-02]|2017-02-02|      null|   0|\n",
      "|01ecc80975914d0e8...|[2017-02-02, 2017...|2017-02-02|2017-02-07|   5|\n",
      "|02bbd5501a1b43979...|[2017-02-02, 2017...|2017-02-02|2017-02-23|  21|\n",
      "|031d8202cd224b6e8...|[2017-02-02, 2017...|2017-02-02|2017-03-03|  29|\n",
      "|0326cfdbb7d6412b8...|        [2017-02-02]|2017-02-02|      null|   0|\n",
      "|039cbbe5f8df424da...|        [2017-02-02]|2017-02-02|      null|   0|\n",
      "|0422984b5904494e8...|        [2017-02-02]|2017-02-02|      null|   0|\n",
      "|0474afb235b44f8d8...|        [2017-02-02]|2017-02-02|      null|   0|\n",
      "|047d2b558e82461ba...|        [2017-02-02]|2017-02-02|      null|   0|\n",
      "|0483b9ea9d5c45708...|        [2017-02-02]|2017-02-02|      null|   0|\n",
      "|05028ce92a9e4a158...|        [2017-02-02]|2017-02-02|      null|   0|\n",
      "|05441ea8b33a4708b...|[2017-02-02, 2017...|2017-02-02|2017-02-24|  22|\n",
      "|062aac3eb72249ca8...|        [2017-02-02]|2017-02-02|      null|   0|\n",
      "+--------------------+--------------------+----------+----------+----+\n",
      "\n"
     ]
    }
   ],
   "source": [
    "daydiff_udf = udf(daydiff, IntegerType())\n",
    "row2df.select(\"cookie_id\" ,\"list_eventdt\", \"1stVisit\", \"2ndVisit\", daydiff_udf(\"1stVisit\",\"2ndVisit\").alias(\"diff\"))\\\n",
    "      .registerTempTable(\"df_diff\")\n",
    "hc.sql('''\n",
    "          SELECT   *\n",
    "          FROM     df_diff\n",
    "          LIMIT    20\n",
    "       ''').show()"
   ]
  },
  {
   "cell_type": "markdown",
   "metadata": {},
   "source": [
    "## 計算各區間回訪人數"
   ]
  },
  {
   "cell_type": "code",
   "execution_count": 44,
   "metadata": {
    "collapsed": false
   },
   "outputs": [
    {
     "name": "stdout",
     "output_type": "stream",
     "text": [
      "+---------------+----+----+----+----+----+----+----+-----+\n",
      "|count(1stVisit)|Day1|Day2|Day3|Day4|Day5|Day6|Day7|Day30|\n",
      "+---------------+----+----+----+----+----+----+----+-----+\n",
      "|          67861|5003| 978| 569|1328| 777| 623| 573| 5494|\n",
      "+---------------+----+----+----+----+----+----+----+-----+\n",
      "\n"
     ]
    }
   ],
   "source": [
    "hc.sql(\n",
    "       '''\n",
    "          SELECT   COUNT(1stVisit), \n",
    "                   SUM(CASE WHEN Diff = 1 THEN 1 ELSE 0 END) AS Day1,\n",
    "                   SUM(CASE WHEN Diff = 2 THEN 1 ELSE 0 END) AS Day2,\n",
    "                   SUM(CASE WHEN Diff = 3 THEN 1 ELSE 0 END) AS Day3,\n",
    "                   SUM(CASE WHEN Diff = 4 THEN 1 ELSE 0 END) AS Day4,\n",
    "                   SUM(CASE WHEN Diff = 5 THEN 1 ELSE 0 END) AS Day5,\n",
    "                   SUM(CASE WHEN Diff = 6 THEN 1 ELSE 0 END) AS Day6,\n",
    "                   SUM(CASE WHEN Diff = 7 THEN 1 ELSE 0 END) AS Day7,\n",
    "                   SUM(CASE WHEN Diff >= 8 AND Diff <= 30 THEN 1 ELSE 0 END) AS Day30\n",
    "          FROM     df_diff\n",
    "       '''\n",
    "       ).show()"
   ]
  }
 ],
 "metadata": {
  "anaconda-cloud": {},
  "kernelspec": {
   "display_name": "Python [default]",
   "language": "python",
   "name": "python2"
  },
  "language_info": {
   "codemirror_mode": {
    "name": "ipython",
    "version": 2
   },
   "file_extension": ".py",
   "mimetype": "text/x-python",
   "name": "python",
   "nbconvert_exporter": "python",
   "pygments_lexer": "ipython2",
   "version": "2.7.12"
  }
 },
 "nbformat": 4,
 "nbformat_minor": 2
}
